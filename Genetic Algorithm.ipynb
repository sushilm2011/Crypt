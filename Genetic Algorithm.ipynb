{
 "cells": [
  {
   "cell_type": "code",
   "execution_count": 32,
   "metadata": {},
   "outputs": [
    {
     "name": "stdout",
     "output_type": "stream",
     "text": [
      "0\n",
      "0\n",
      "2\n",
      "2\n",
      "1\n",
      "2\n",
      "1\n",
      "1\n",
      "1\n",
      "1\n",
      "0\n",
      "1\n",
      "1\n",
      "3\n",
      "2\n",
      "0\n",
      "1\n",
      "0\n",
      "0\n",
      "1\n"
     ]
    }
   ],
   "source": [
    "import string\n",
    "from random import shuffle\n",
    "\n",
    "class GA:\n",
    "    \n",
    "    def __init__(self, c):\n",
    "        self.cipher = c\n",
    "        self.NUMBER_OF_GENERATION = 100\n",
    "        self.NUMBER_OF_INDIVIDUALS = 20\n",
    "        self.key = self.generateInitialPopulation()\n",
    "        pass\n",
    "    \n",
    "    #generate initial population\n",
    "    def generateInitialPopulation(self):\n",
    "        key = []\n",
    "        for i in range(self.NUMBER_OF_INDIVIDUALS):\n",
    "            l = list(string.ascii_uppercase)\n",
    "            shuffle(l)\n",
    "            key.append(l)\n",
    "        return key\n",
    "    \n",
    "    #in temp replace letter1 with letter2\n",
    "    def replaceMono(self, temp, letter1, letter2):\n",
    "        for i, letter in enumerate(self.cipher):\n",
    "            if letter is letter1:\n",
    "                temp[i] = letter2\n",
    "        return temp\n",
    "    \n",
    "    def frequency(self, s):\n",
    "        temp = \"QWERTYUIOPASDFGHJKLZXCVBNM\"\n",
    "        m = {}\n",
    "        for each in temp:\n",
    "            m[each] = 0\n",
    "        for t in s:\n",
    "            m[t] = m[t]+1\n",
    "        return sorted(m.items(), key = lambda t : t[1], reverse = True)\n",
    "    \n",
    "    def fitness(self):\n",
    "        orig = list(string.ascii_uppercase)\n",
    "        eng_monogram_freq = \"EARIOTNSLCUDPMHGBFYWKVXZJQ\"\n",
    "        for i in range(self.NUMBER_OF_INDIVIDUALS):\n",
    "            monogram_match = 0\n",
    "            temp = list(self.cipher)\n",
    "            \n",
    "            for j, letter1 in enumerate(orig):\n",
    "                temp = self.replaceMono\n",
    "                (temp, self.key[i][j], letter1)\n",
    "                \n",
    "            freq = self.frequency(temp)\n",
    "            together_freq = [p[0] for p in freq]\n",
    "            for j, letter in enumerate(eng_monogram_freq):\n",
    "                if together_freq[j] is letter:\n",
    "                    monogram_match = monogram_match + 1\n",
    "            print(monogram_match)\n",
    "            \n",
    "            \n",
    "            \n",
    "            \n",
    "                \n",
    "                \n",
    "        \n",
    "    def select():\n",
    "        pass\n",
    "    \n",
    "    def crossover():\n",
    "        pass\n",
    "    \n",
    "cipher = \"CSLSOCSRSFTLAAMQZKXESCGPMAFAFTASSMWSHPLZIGCHBZOZTLAMMILGGBAFRAFAFTASSFTUZFOOGZFRBSFTOGMOPTXBSULZKZOPKFZTOGAFTASSMSBSUXZKSFTMOSKOZTHKSIOAIAFRBSULZUSMOLZRKZSOBZSTZKGEOLZAFTASFAFTZHZFTZFIZCGQZCZFOULGMOKPRRBZTSBGOEGKOLZEKZZTGCGEAFTASSMSCZCWZKGEOLZAFTASFFSOAGFSBIGFRKZMMLZMOSKOZTAFTZHZFTZFIZCGQZCZFOMBADZFGFIGGHZKSOAGFIAQABTAMGWZTAZFIZSFTBSOZKJPAOAFTASCGQZCZFOULAILWZISCZMPIIZMMEPBSFTLZBHZTAFTASAFRZOOAFREKZZTGCSMSRKZSOEKZZTGCEARLOZKLZRGOSKKZMOZTSFTUSMMZFOOGNSABCSFXOACZMWPOLZIGFOAFPZTEARLOAFRSRSAFMOWKAOAMLKPBZEGKOLZNPMOAIZGEAFTASFMLZUSMSRKZSOWZBAZQZKAFFGFQAGBZFIZSFTPFAOXGEHZGHBZGESBBKZBARAGFMULAILLZEGBBGUZTSBBOLKGPRLLAMMOKPRRBZEGKAFTZHZFTZFIZ\"\n",
    "g = GA(cipher)\n",
    "g.fitness()"
   ]
  },
  {
   "cell_type": "code",
   "execution_count": null,
   "metadata": {
    "collapsed": true
   },
   "outputs": [],
   "source": []
  }
 ],
 "metadata": {
  "kernelspec": {
   "display_name": "Python 3",
   "language": "python",
   "name": "python3"
  },
  "language_info": {
   "codemirror_mode": {
    "name": "ipython",
    "version": 3
   },
   "file_extension": ".py",
   "mimetype": "text/x-python",
   "name": "python",
   "nbconvert_exporter": "python",
   "pygments_lexer": "ipython3",
   "version": "3.6.1"
  }
 },
 "nbformat": 4,
 "nbformat_minor": 2
}

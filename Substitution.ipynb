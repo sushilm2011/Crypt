{
 "cells": [
  {
   "cell_type": "code",
   "execution_count": 58,
   "metadata": {
    "collapsed": true
   },
   "outputs": [],
   "source": [
    "s = \"\"\"CSLSOCSRSFTLAAMQZKXESCGPMAFAFTASSMWSHPLZIGCHBZOZTLAMMILGGBA\n",
    "FRAFAFTASSFTUZFOOGZFRBSFTOGMOPTXBSULZKZOPKFZTOGAFTASSMSBSUXZ\n",
    "KSFTMOSKOZTHKSIOAIAFRBSULZUSMOLZRKZSOBZSTZKGEOLZAFTASFAFTZHZ\n",
    "FTZFIZCGQZCZFOULGMOKPRRBZTSBGOEGKOLZEKZZTGCGEAFTASSMSCZCWZK\n",
    "GEOLZAFTASFFSOAGFSBIGFRKZMMLZMOSKOZTAFTZHZFTZFIZCGQZCZFOMBAD\n",
    "ZFGFIGGHZKSOAGFIAQABTAMGWZTAZFIZSFTBSOZKJPAOAFTASCGQZCZFOULAI\n",
    "LWZISCZMPIIZMMEPBSFTLZBHZTAFTASAFRZOOAFREKZZTGCSMSRKZSOEKZZT\n",
    "GCEARLOZKLZRGOSKKZMOZTSFTUSMMZFOOGNSABCSFXOACZMWPOLZIGFOAF\n",
    "PZTEARLOAFRSRSAFMOWKAOAMLKPBZEGKOLZNPMOAIZGEAFTASFMLZUSMSR\n",
    "KZSOWZBAZQZKAFFGFQAGBZFIZSFTPFAOXGEHZGHBZGESBBKZBARAGFMULAI\n",
    "LLZEGBBGUZTSBBOLKGPRLLAMMOKPRRBZEGKAFTZHZFTZFIZ\"\"\""
   ]
  },
  {
   "cell_type": "code",
   "execution_count": 59,
   "metadata": {
    "collapsed": true
   },
   "outputs": [],
   "source": [
    "s = s.split('\\n')"
   ]
  },
  {
   "cell_type": "code",
   "execution_count": 60,
   "metadata": {},
   "outputs": [
    {
     "name": "stdout",
     "output_type": "stream",
     "text": [
      "CSLSOCSRSFTLAAMQZKXESCGPMAFAFTASSMWSHPLZIGCHBZOZTLAMMILGGBAFRAFAFTASSFTUZFOOGZFRBSFTOGMOPTXBSULZKZOPKFZTOGAFTASSMSBSUXZKSFTMOSKOZTHKSIOAIAFRBSULZUSMOLZRKZSOBZSTZKGEOLZAFTASFAFTZHZFTZFIZCGQZCZFOULGMOKPRRBZTSBGOEGKOLZEKZZTGCGEAFTASSMSCZCWZKGEOLZAFTASFFSOAGFSBIGFRKZMMLZMOSKOZTAFTZHZFTZFIZCGQZCZFOMBADZFGFIGGHZKSOAGFIAQABTAMGWZTAZFIZSFTBSOZKJPAOAFTASCGQZCZFOULAILWZISCZMPIIZMMEPBSFTLZBHZTAFTASAFRZOOAFREKZZTGCSMSRKZSOEKZZTGCEARLOZKLZRGOSKKZMOZTSFTUSMMZFOOGNSABCSFXOACZMWPOLZIGFOAFPZTEARLOAFRSRSAFMOWKAOAMLKPBZEGKOLZNPMOAIZGEAFTASFMLZUSMSRKZSOWZBAZQZKAFFGFQAGBZFIZSFTPFAOXGEHZGHBZGESBBKZBARAGFMULAILLZEGBBGUZTSBBOLKGPRLLAMMOKPRRBZEGKAFTZHZFTZFIZ\n"
     ]
    }
   ],
   "source": [
    "s = ''.join(s)\n",
    "print(s);"
   ]
  },
  {
   "cell_type": "code",
   "execution_count": 61,
   "metadata": {
    "collapsed": true
   },
   "outputs": [],
   "source": [
    "def frequency(s):\n",
    "    temp = \"QWERTYUIOPASDFGHJKLZXCVBNM\"\n",
    "    m = {}\n",
    "    for each in temp:\n",
    "        m[each] = 0\n",
    "    for t in s:\n",
    "        m[t] = m[t]+1\n",
    "    return m"
   ]
  },
  {
   "cell_type": "code",
   "execution_count": 62,
   "metadata": {
    "collapsed": true
   },
   "outputs": [],
   "source": [
    "freq = frequency(s)"
   ]
  },
  {
   "cell_type": "code",
   "execution_count": 63,
   "metadata": {},
   "outputs": [
    {
     "name": "stdout",
     "output_type": "stream",
     "text": [
      "{'Q': 7, 'W': 7, 'E': 17, 'R': 21, 'T': 39, 'Y': 0, 'U': 11, 'I': 19, 'O': 47, 'P': 15, 'A': 58, 'S': 56, 'D': 1, 'F': 60, 'G': 41, 'H': 10, 'J': 1, 'K': 31, 'L': 29, 'Z': 86, 'X': 5, 'C': 18, 'V': 0, 'B': 28, 'N': 2, 'M': 32}\n"
     ]
    }
   ],
   "source": [
    "print(freq)"
   ]
  },
  {
   "cell_type": "code",
   "execution_count": 64,
   "metadata": {},
   "outputs": [
    {
     "name": "stdout",
     "output_type": "stream",
     "text": [
      "[('Z', 86), ('F', 60), ('A', 58), ('S', 56), ('O', 47), ('G', 41), ('T', 39), ('M', 32), ('K', 31), ('L', 29), ('B', 28), ('R', 21), ('I', 19), ('C', 18), ('E', 17), ('P', 15), ('U', 11), ('H', 10), ('Q', 7), ('W', 7), ('X', 5), ('N', 2), ('D', 1), ('J', 1), ('Y', 0), ('V', 0)]\n"
     ]
    }
   ],
   "source": [
    "freq = sorted(freq.items(), key=lambda t: t[1], reverse=True)\n",
    "print(freq)"
   ]
  },
  {
   "cell_type": "code",
   "execution_count": 65,
   "metadata": {
    "collapsed": true
   },
   "outputs": [],
   "source": [
    "_s = s"
   ]
  },
  {
   "cell_type": "code",
   "execution_count": 66,
   "metadata": {
    "collapsed": true
   },
   "outputs": [],
   "source": [
    "english_freq = \"EARIOTNSLCUDPMHGBFYWKVXZJQ\""
   ]
  },
  {
   "cell_type": "code",
   "execution_count": 67,
   "metadata": {},
   "outputs": [
    {
     "name": "stdout",
     "output_type": "stream",
     "text": [
      "Z E\n",
      "C S L S O C S R S F T L A A M Q E K X E S C G P M A F A F T A S S M W S H P L E I G C H B E O E T L A M M I L G G B A F R A F A F T A S S F T U E F O O G E F R B S F T O G M O P T X B S U L E K E O P K F E T O G A F T A S S M S B S U X E K S F T M O S K O E T H K S I O A I A F R B S U L E U S M O L E R K E S O B E S T E K G E O L E A F T A S F A F T E H E F T E F I E C G Q E C E F O U L G M O K P R R B E T S B G O E G K O L E E K E E T G C G E A F T A S S M S C E C W E K G E O L E A F T A S F F S O A G F S B I G F R K E M M L E M O S K O E T A F T E H E F T E F I E C G Q E C E F O M B A D E F G F I G G H E K S O A G F I A Q A B T A M G W E T A E F I E S F T B S O E K J P A O A F T A S C G Q E C E F O U L A I L W E I S C E M P I I E M M E P B S F T L E B H E T A F T A S A F R E O O A F R E K E E T G C S M S R K E S O E K E E T G C E A R L O E K L E R G O S K K E M O E T S F T U S M M E F O O G N S A B C S F X O A C E M W P O L E I G F O A F P E T E A R L O A F R S R S A F M O W K A O A M L K P B E E G K O L E N P M O A I E G E A F T A S F M L E U S M S R K E S O W E B A E Q E K A F F G F Q A G B E F I E S F T P F A O X G E H E G H B E G E S B B K E B A R A G F M U L A I L L E E G B B G U E T S B B O L K G P R L L A M M O K P R R B E E G K A F T E H E F T E F I E\n",
      "\n",
      "F A\n",
      "C S L S O C S R S A T L A A M Q E K X E S C G P M A A A A T A S S M W S H P L E I G C H B E O E T L A M M I L G G B A A R A A A A T A S S A T U E A O O G E A R B S A T O G M O P T X B S U L E K E O P K A E T O G A A T A S S M S B S U X E K S A T M O S K O E T H K S I O A I A A R B S U L E U S M O L E R K E S O B E S T E K G E O L E A A T A S A A A T E H E A T E A I E C G Q E C E A O U L G M O K P R R B E T S B G O E G K O L E E K E E T G C G E A A T A S S M S C E C W E K G E O L E A A T A S A A S O A G A S B I G A R K E M M L E M O S K O E T A A T E H E A T E A I E C G Q E C E A O M B A D E A G A I G G H E K S O A G A I A Q A B T A M G W E T A E A I E S A T B S O E K J P A O A A T A S C G Q E C E A O U L A I L W E I S C E M P I I E M M E P B S A T L E B H E T A A T A S A A R E O O A A R E K E E T G C S M S R K E S O E K E E T G C E A R L O E K L E R G O S K K E M O E T S A T U S M M E A O O G N S A B C S A X O A C E M W P O L E I G A O A A P E T E A R L O A A R S R S A A M O W K A O A M L K P B E E G K O L E N P M O A I E G E A A T A S A M L E U S M S R K E S O W E B A E Q E K A A A G A Q A G B E A I E S A T P A A O X G E H E G H B E G E S B B K E B A R A G A M U L A I L L E E G B B G U E T S B B O L K G P R L L A M M O K P R R B E E G K A A T E H E A T E A I E\n",
      "\n",
      "A R\n",
      "C S L S O C S R S A T L R R M Q E K X E S C G P M R A R A T R S S M W S H P L E I G C H B E O E T L R M M I L G G B R A R R A R A T R S S A T U E A O O G E A R B S A T O G M O P T X B S U L E K E O P K A E T O G R A T R S S M S B S U X E K S A T M O S K O E T H K S I O R I R A R B S U L E U S M O L E R K E S O B E S T E K G E O L E R A T R S A R A T E H E A T E A I E C G Q E C E A O U L G M O K P R R B E T S B G O E G K O L E E K E E T G C G E R A T R S S M S C E C W E K G E O L E R A T R S A A S O R G A S B I G A R K E M M L E M O S K O E T R A T E H E A T E A I E C G Q E C E A O M B R D E A G A I G G H E K S O R G A I R Q R B T R M G W E T R E A I E S A T B S O E K J P R O R A T R S C G Q E C E A O U L R I L W E I S C E M P I I E M M E P B S A T L E B H E T R A T R S R A R E O O R A R E K E E T G C S M S R K E S O E K E E T G C E R R L O E K L E R G O S K K E M O E T S A T U S M M E A O O G N S R B C S A X O R C E M W P O L E I G A O R A P E T E R R L O R A R S R S R A M O W K R O R M L K P B E E G K O L E N P M O R I E G E R A T R S A M L E U S M S R K E S O W E B R E Q E K R A A G A Q R G B E A I E S A T P A R O X G E H E G H B E G E S B B K E B R R R G A M U L R I L L E E G B B G U E T S B B O L K G P R L L R M M O K P R R B E E G K R A T E H E A T E A I E\n",
      "\n",
      "S I\n",
      "C I L I O C I R I A T L R R M Q E K X E I C G P M R A R A T R I I M W I H P L E I G C H B E O E T L R M M I L G G B R A R R A R A T R I I A T U E A O O G E A R B I A T O G M O P T X B I U L E K E O P K A E T O G R A T R I I M I B I U X E K I A T M O I K O E T H K I I O R I R A R B I U L E U I M O L E R K E I O B E I T E K G E O L E R A T R I A R A T E H E A T E A I E C G Q E C E A O U L G M O K P R R B E T I B G O E G K O L E E K E E T G C G E R A T R I I M I C E C W E K G E O L E R A T R I A A I O R G A I B I G A R K E M M L E M O I K O E T R A T E H E A T E A I E C G Q E C E A O M B R D E A G A I G G H E K I O R G A I R Q R B T R M G W E T R E A I E I A T B I O E K J P R O R A T R I C G Q E C E A O U L R I L W E I I C E M P I I E M M E P B I A T L E B H E T R A T R I R A R E O O R A R E K E E T G C I M I R K E I O E K E E T G C E R R L O E K L E R G O I K K E M O E T I A T U I M M E A O O G N I R B C I A X O R C E M W P O L E I G A O R A P E T E R R L O R A R I R I R A M O W K R O R M L K P B E E G K O L E N P M O R I E G E R A T R I A M L E U I M I R K E I O W E B R E Q E K R A A G A Q R G B E A I E I A T P A R O X G E H E G H B E G E I B B K E B R R R G A M U L R I L L E E G B B G U E T I B B O L K G P R L L R M M O K P R R B E E G K R A T E H E A T E A I E\n",
      "\n",
      "O O\n",
      "C I L I O C I R I A T L R R M Q E K X E I C G P M R A R A T R I I M W I H P L E I G C H B E O E T L R M M I L G G B R A R R A R A T R I I A T U E A O O G E A R B I A T O G M O P T X B I U L E K E O P K A E T O G R A T R I I M I B I U X E K I A T M O I K O E T H K I I O R I R A R B I U L E U I M O L E R K E I O B E I T E K G E O L E R A T R I A R A T E H E A T E A I E C G Q E C E A O U L G M O K P R R B E T I B G O E G K O L E E K E E T G C G E R A T R I I M I C E C W E K G E O L E R A T R I A A I O R G A I B I G A R K E M M L E M O I K O E T R A T E H E A T E A I E C G Q E C E A O M B R D E A G A I G G H E K I O R G A I R Q R B T R M G W E T R E A I E I A T B I O E K J P R O R A T R I C G Q E C E A O U L R I L W E I I C E M P I I E M M E P B I A T L E B H E T R A T R I R A R E O O R A R E K E E T G C I M I R K E I O E K E E T G C E R R L O E K L E R G O I K K E M O E T I A T U I M M E A O O G N I R B C I A X O R C E M W P O L E I G A O R A P E T E R R L O R A R I R I R A M O W K R O R M L K P B E E G K O L E N P M O R I E G E R A T R I A M L E U I M I R K E I O W E B R E Q E K R A A G A Q R G B E A I E I A T P A R O X G E H E G H B E G E I B B K E B R R R G A M U L R I L L E E G B B G U E T I B B O L K G P R L L R M M O K P R R B E E G K R A T E H E A T E A I E\n",
      "\n",
      "G T\n",
      "C I L I O C I R I A T L R R M Q E K X E I C T P M R A R A T R I I M W I H P L E I T C H B E O E T L R M M I L T T B R A R R A R A T R I I A T U E A O O T E A R B I A T O T M O P T X B I U L E K E O P K A E T O T R A T R I I M I B I U X E K I A T M O I K O E T H K I I O R I R A R B I U L E U I M O L E R K E I O B E I T E K T E O L E R A T R I A R A T E H E A T E A I E C T Q E C E A O U L T M O K P R R B E T I B T O E T K O L E E K E E T T C T E R A T R I I M I C E C W E K T E O L E R A T R I A A I O R T A I B I T A R K E M M L E M O I K O E T R A T E H E A T E A I E C T Q E C E A O M B R D E A T A I T T H E K I O R T A I R Q R B T R M T W E T R E A I E I A T B I O E K J P R O R A T R I C T Q E C E A O U L R I L W E I I C E M P I I E M M E P B I A T L E B H E T R A T R I R A R E O O R A R E K E E T T C I M I R K E I O E K E E T T C E R R L O E K L E R T O I K K E M O E T I A T U I M M E A O O T N I R B C I A X O R C E M W P O L E I T A O R A P E T E R R L O R A R I R I R A M O W K R O R M L K P B E E T K O L E N P M O R I E T E R A T R I A M L E U I M I R K E I O W E B R E Q E K R A A T A Q R T B E A I E I A T P A R O X T E H E T H B E T E I B B K E B R R R T A M U L R I L L E E T B B T U E T I B B O L K T P R L L R M M O K P R R B E E T K R A T E H E A T E A I E\n",
      "\n",
      "T N\n",
      "C I L I O C I R I A N L R R M Q E K X E I C T P M R A R A N R I I M W I H P L E I T C H B E O E N L R M M I L T T B R A R R A R A N R I I A N U E A O O T E A R B I A N O T M O P N X B I U L E K E O P K A E N O T R A N R I I M I B I U X E K I A N M O I K O E N H K I I O R I R A R B I U L E U I M O L E R K E I O B E I N E K T E O L E R A N R I A R A N E H E A N E A I E C T Q E C E A O U L T M O K P R R B E N I B T O E T K O L E E K E E N T C T E R A N R I I M I C E C W E K T E O L E R A N R I A A I O R T A I B I T A R K E M M L E M O I K O E N R A N E H E A N E A I E C T Q E C E A O M B R D E A T A I T T H E K I O R T A I R Q R B N R M T W E N R E A I E I A N B I O E K J P R O R A N R I C T Q E C E A O U L R I L W E I I C E M P I I E M M E P B I A N L E B H E N R A N R I R A R E O O R A R E K E E N T C I M I R K E I O E K E E N T C E R R L O E K L E R T O I K K E M O E N I A N U I M M E A O O T N I R B C I A X O R C E M W P O L E I T A O R A P E N E R R L O R A R I R I R A M O W K R O R M L K P B E E T K O L E N P M O R I E T E R A N R I A M L E U I M I R K E I O W E B R E Q E K R A A T A Q R T B E A I E I A N P A R O X T E H E T H B E T E I B B K E B R R R T A M U L R I L L E E T B B T U E N I B B O L K T P R L L R M M O K P R R B E E T K R A N E H E A N E A I E\n",
      "\n",
      "M S\n",
      "C I L I O C I R I A N L R R S Q E K X E I C T P S R A R A N R I I S W I H P L E I T C H B E O E N L R S S I L T T B R A R R A R A N R I I A N U E A O O T E A R B I A N O T S O P N X B I U L E K E O P K A E N O T R A N R I I S I B I U X E K I A N S O I K O E N H K I I O R I R A R B I U L E U I S O L E R K E I O B E I N E K T E O L E R A N R I A R A N E H E A N E A I E C T Q E C E A O U L T S O K P R R B E N I B T O E T K O L E E K E E N T C T E R A N R I I S I C E C W E K T E O L E R A N R I A A I O R T A I B I T A R K E S S L E S O I K O E N R A N E H E A N E A I E C T Q E C E A O S B R D E A T A I T T H E K I O R T A I R Q R B N R S T W E N R E A I E I A N B I O E K J P R O R A N R I C T Q E C E A O U L R I L W E I I C E S P I I E S S E P B I A N L E B H E N R A N R I R A R E O O R A R E K E E N T C I S I R K E I O E K E E N T C E R R L O E K L E R T O I K K E S O E N I A N U I S S E A O O T N I R B C I A X O R C E S W P O L E I T A O R A P E N E R R L O R A R I R I R A S O W K R O R S L K P B E E T K O L E N P S O R I E T E R A N R I A S L E U I S I R K E I O W E B R E Q E K R A A T A Q R T B E A I E I A N P A R O X T E H E T H B E T E I B B K E B R R R T A S U L R I L L E E T B B T U E N I B B O L K T P R L L R S S O K P R R B E E T K R A N E H E A N E A I E\n",
      "\n",
      "K L\n",
      "C I L I O C I R I A N L R R S Q E L X E I C T P S R A R A N R I I S W I H P L E I T C H B E O E N L R S S I L T T B R A R R A R A N R I I A N U E A O O T E A R B I A N O T S O P N X B I U L E L E O P L A E N O T R A N R I I S I B I U X E L I A N S O I L O E N H L I I O R I R A R B I U L E U I S O L E R L E I O B E I N E L T E O L E R A N R I A R A N E H E A N E A I E C T Q E C E A O U L T S O L P R R B E N I B T O E T L O L E E L E E N T C T E R A N R I I S I C E C W E L T E O L E R A N R I A A I O R T A I B I T A R L E S S L E S O I L O E N R A N E H E A N E A I E C T Q E C E A O S B R D E A T A I T T H E L I O R T A I R Q R B N R S T W E N R E A I E I A N B I O E L J P R O R A N R I C T Q E C E A O U L R I L W E I I C E S P I I E S S E P B I A N L E B H E N R A N R I R A R E O O R A R E L E E N T C I S I R L E I O E L E E N T C E R R L O E L L E R T O I L L E S O E N I A N U I S S E A O O T N I R B C I A X O R C E S W P O L E I T A O R A P E N E R R L O R A R I R I R A S O W L R O R S L L P B E E T L O L E N P S O R I E T E R A N R I A S L E U I S I R L E I O W E B R E Q E L R A A T A Q R T B E A I E I A N P A R O X T E H E T H B E T E I B B L E B R R R T A S U L R I L L E E T B B T U E N I B B O L L T P R L L R S S O L P R R B E E T L R A N E H E A N E A I E\n",
      "\n",
      "L C\n",
      "C I C I O C I R I A N C R R S Q E L X E I C T P S R A R A N R I I S W I H P C E I T C H B E O E N C R S S I C T T B R A R R A R A N R I I A N U E A O O T E A R B I A N O T S O P N X B I U C E L E O P L A E N O T R A N R I I S I B I U X E L I A N S O I L O E N H L I I O R I R A R B I U C E U I S O C E R L E I O B E I N E L T E O C E R A N R I A R A N E H E A N E A I E C T Q E C E A O U C T S O L P R R B E N I B T O E T L O C E E L E E N T C T E R A N R I I S I C E C W E L T E O C E R A N R I A A I O R T A I B I T A R L E S S C E S O I L O E N R A N E H E A N E A I E C T Q E C E A O S B R D E A T A I T T H E L I O R T A I R Q R B N R S T W E N R E A I E I A N B I O E L J P R O R A N R I C T Q E C E A O U C R I C W E I I C E S P I I E S S E P B I A N C E B H E N R A N R I R A R E O O R A R E L E E N T C I S I R L E I O E L E E N T C E R R C O E L C E R T O I L L E S O E N I A N U I S S E A O O T N I R B C I A X O R C E S W P O C E I T A O R A P E N E R R C O R A R I R I R A S O W L R O R S C L P B E E T L O C E N P S O R I E T E R A N R I A S C E U I S I R L E I O W E B R E Q E L R A A T A Q R T B E A I E I A N P A R O X T E H E T H B E T E I B B L E B R R R T A S U C R I C C E E T B B T U E N I B B O C L T P R C C R S S O L P R R B E E T L R A N E H E A N E A I E\n",
      "\n",
      "B U\n",
      "C I C I O C I R I A N C R R S Q E L X E I C T P S R A R A N R I I S W I H P C E I T C H U E O E N C R S S I C T T U R A R R A R A N R I I A N U E A O O T E A R U I A N O T S O P N X U I U C E L E O P L A E N O T R A N R I I S I U I U X E L I A N S O I L O E N H L I I O R I R A R U I U C E U I S O C E R L E I O U E I N E L T E O C E R A N R I A R A N E H E A N E A I E C T Q E C E A O U C T S O L P R R U E N I U T O E T L O C E E L E E N T C T E R A N R I I S I C E C W E L T E O C E R A N R I A A I O R T A I U I T A R L E S S C E S O I L O E N R A N E H E A N E A I E C T Q E C E A O S U R D E A T A I T T H E L I O R T A I R Q R U N R S T W E N R E A I E I A N U I O E L J P R O R A N R I C T Q E C E A O U C R I C W E I I C E S P I I E S S E P U I A N C E U H E N R A N R I R A R E O O R A R E L E E N T C I S I R L E I O E L E E N T C E R R C O E L C E R T O I L L E S O E N I A N U I S S E A O O T N I R U C I A X O R C E S W P O C E I T A O R A P E N E R R C O R A R I R I R A S O W L R O R S C L P U E E T L O C E N P S O R I E T E R A N R I A S C E U I S I R L E I O W E U R E Q E L R A A T A Q R T U E A I E I A N P A R O X T E H E T H U E T E I U U L E U R R R T A S U C R I C C E E T U U T U E N I U U O C L T P R C C R S S O L P R R U E E T L R A N E H E A N E A I E\n",
      "\n",
      "R D\n",
      "C I C I O C I D I A N C R R S Q E L X E I C T P S R A R A N R I I S W I H P C E I T C H U E O E N C R S S I C T T U R A D R A R A N R I I A N U E A O O T E A D U I A N O T S O P N X U I U C E L E O P L A E N O T R A N R I I S I U I U X E L I A N S O I L O E N H L I I O R I R A D U I U C E U I S O C E D L E I O U E I N E L T E O C E R A N R I A R A N E H E A N E A I E C T Q E C E A O U C T S O L P D D U E N I U T O E T L O C E E L E E N T C T E R A N R I I S I C E C W E L T E O C E R A N R I A A I O R T A I U I T A D L E S S C E S O I L O E N R A N E H E A N E A I E C T Q E C E A O S U R D E A T A I T T H E L I O R T A I R Q R U N R S T W E N R E A I E I A N U I O E L J P R O R A N R I C T Q E C E A O U C R I C W E I I C E S P I I E S S E P U I A N C E U H E N R A N R I R A D E O O R A D E L E E N T C I S I D L E I O E L E E N T C E R D C O E L C E D T O I L L E S O E N I A N U I S S E A O O T N I R U C I A X O R C E S W P O C E I T A O R A P E N E R D C O R A D I D I R A S O W L R O R S C L P U E E T L O C E N P S O R I E T E R A N R I A S C E U I S I D L E I O W E U R E Q E L R A A T A Q R T U E A I E I A N P A R O X T E H E T H U E T E I U U L E U R D R T A S U C R I C C E E T U U T U E N I U U O C L T P D C C R S S O L P D D U E E T L R A N E H E A N E A I E\n",
      "\n",
      "I P\n",
      "C I C I O C I D I A N C R R S Q E L X E I C T P S R A R A N R I I S W I H P C E P T C H U E O E N C R S S P C T T U R A D R A R A N R I I A N U E A O O T E A D U I A N O T S O P N X U I U C E L E O P L A E N O T R A N R I I S I U I U X E L I A N S O I L O E N H L I P O R P R A D U I U C E U I S O C E D L E I O U E I N E L T E O C E R A N R I A R A N E H E A N E A P E C T Q E C E A O U C T S O L P D D U E N I U T O E T L O C E E L E E N T C T E R A N R I I S I C E C W E L T E O C E R A N R I A A I O R T A I U P T A D L E S S C E S O I L O E N R A N E H E A N E A P E C T Q E C E A O S U R D E A T A P T T H E L I O R T A P R Q R U N R S T W E N R E A P E I A N U I O E L J P R O R A N R I C T Q E C E A O U C R P C W E P I C E S P P P E S S E P U I A N C E U H E N R A N R I R A D E O O R A D E L E E N T C I S I D L E I O E L E E N T C E R D C O E L C E D T O I L L E S O E N I A N U I S S E A O O T N I R U C I A X O R C E S W P O C E P T A O R A P E N E R D C O R A D I D I R A S O W L R O R S C L P U E E T L O C E N P S O R P E T E R A N R I A S C E U I S I D L E I O W E U R E Q E L R A A T A Q R T U E A P E I A N P A R O X T E H E T H U E T E I U U L E U R D R T A S U C R P C C E E T U U T U E N I U U O C L T P D C C R S S O L P D D U E E T L R A N E H E A N E A P E\n",
      "\n",
      "C M\n",
      "M I C I O M I D I A N C R R S Q E L X E I M T P S R A R A N R I I S W I H P C E P T M H U E O E N C R S S P C T T U R A D R A R A N R I I A N U E A O O T E A D U I A N O T S O P N X U I U C E L E O P L A E N O T R A N R I I S I U I U X E L I A N S O I L O E N H L I P O R P R A D U I U C E U I S O C E D L E I O U E I N E L T E O C E R A N R I A R A N E H E A N E A P E M T Q E M E A O U C T S O L P D D U E N I U T O E T L O C E E L E E N T M T E R A N R I I S I M E M W E L T E O C E R A N R I A A I O R T A I U P T A D L E S S C E S O I L O E N R A N E H E A N E A P E M T Q E M E A O S U R D E A T A P T T H E L I O R T A P R Q R U N R S T W E N R E A P E I A N U I O E L J P R O R A N R I M T Q E M E A O U C R P C W E P I M E S P P P E S S E P U I A N C E U H E N R A N R I R A D E O O R A D E L E E N T M I S I D L E I O E L E E N T M E R D C O E L C E D T O I L L E S O E N I A N U I S S E A O O T N I R U M I A X O R M E S W P O C E P T A O R A P E N E R D C O R A D I D I R A S O W L R O R S C L P U E E T L O C E N P S O R P E T E R A N R I A S C E U I S I D L E I O W E U R E Q E L R A A T A Q R T U E A P E I A N P A R O X T E H E T H U E T E I U U L E U R D R T A S U C R P C C E E T U U T U E N I U U O C L T P D C C R S S O L P D D U E E T L R A N E H E A N E A P E\n",
      "\n",
      "E H\n",
      "M I C I O M I D I A N C R R S Q E L X H I M T P S R A R A N R I I S W I H P C E P T M H U E O E N C R S S P C T T U R A D R A R A N R I I A N U E A O O T E A D U I A N O T S O P N X U I U C E L E O P L A E N O T R A N R I I S I U I U X E L I A N S O I L O E N H L I P O R P R A D U I U C E U I S O C E D L E I O U E I N E L T H O C E R A N R I A R A N E H E A N E A P E M T Q E M E A O U C T S O L P D D U E N I U T O H T L O C E H L E E N T M T H R A N R I I S I M E M W E L T H O C E R A N R I A A I O R T A I U P T A D L E S S C E S O I L O E N R A N E H E A N E A P E M T Q E M E A O S U R D E A T A P T T H E L I O R T A P R Q R U N R S T W E N R E A P E I A N U I O E L J P R O R A N R I M T Q E M E A O U C R P C W E P I M E S P P P E S S H P U I A N C E U H E N R A N R I R A D E O O R A D H L E E N T M I S I D L E I O H L E E N T M H R D C O E L C E D T O I L L E S O E N I A N U I S S E A O O T N I R U M I A X O R M E S W P O C E P T A O R A P E N H R D C O R A D I D I R A S O W L R O R S C L P U E H T L O C E N P S O R P E T H R A N R I A S C E U I S I D L E I O W E U R E Q E L R A A T A Q R T U E A P E I A N P A R O X T H H E T H U E T H I U U L E U R D R T A S U C R P C C E H T U U T U E N I U U O C L T P D C C R S S O L P D D U E H T L R A N E H E A N E A P E\n",
      "\n",
      "P G\n",
      "M I C I O M I D I A N C R R S Q E L X H I M T G S R A R A N R I I S W I H G C E P T M H U E O E N C R S S P C T T U R A D R A R A N R I I A N U E A O O T E A D U I A N O T S O G N X U I U C E L E O G L A E N O T R A N R I I S I U I U X E L I A N S O I L O E N H L I P O R P R A D U I U C E U I S O C E D L E I O U E I N E L T H O C E R A N R I A R A N E H E A N E A P E M T Q E M E A O U C T S O L G D D U E N I U T O H T L O C E H L E E N T M T H R A N R I I S I M E M W E L T H O C E R A N R I A A I O R T A I U P T A D L E S S C E S O I L O E N R A N E H E A N E A P E M T Q E M E A O S U R D E A T A P T T H E L I O R T A P R Q R U N R S T W E N R E A P E I A N U I O E L J G R O R A N R I M T Q E M E A O U C R P C W E P I M E S G P P E S S H G U I A N C E U H E N R A N R I R A D E O O R A D H L E E N T M I S I D L E I O H L E E N T M H R D C O E L C E D T O I L L E S O E N I A N U I S S E A O O T N I R U M I A X O R M E S W G O C E P T A O R A G E N H R D C O R A D I D I R A S O W L R O R S C L G U E H T L O C E N G S O R P E T H R A N R I A S C E U I S I D L E I O W E U R E Q E L R A A T A Q R T U E A P E I A N G A R O X T H H E T H U E T H I U U L E U R D R T A S U C R P C C E H T U U T U E N I U U O C L T G D C C R S S O L G D D U E H T L R A N E H E A N E A P E\n",
      "\n",
      "U B\n",
      "M I C I O M I D I A N C R R S Q E L X H I M T G S R A R A N R I I S W I H G C E P T M H U E O E N C R S S P C T T U R A D R A R A N R I I A N B E A O O T E A D U I A N O T S O G N X U I B C E L E O G L A E N O T R A N R I I S I U I B X E L I A N S O I L O E N H L I P O R P R A D U I B C E B I S O C E D L E I O U E I N E L T H O C E R A N R I A R A N E H E A N E A P E M T Q E M E A O B C T S O L G D D U E N I U T O H T L O C E H L E E N T M T H R A N R I I S I M E M W E L T H O C E R A N R I A A I O R T A I U P T A D L E S S C E S O I L O E N R A N E H E A N E A P E M T Q E M E A O S U R D E A T A P T T H E L I O R T A P R Q R U N R S T W E N R E A P E I A N U I O E L J G R O R A N R I M T Q E M E A O B C R P C W E P I M E S G P P E S S H G U I A N C E U H E N R A N R I R A D E O O R A D H L E E N T M I S I D L E I O H L E E N T M H R D C O E L C E D T O I L L E S O E N I A N B I S S E A O O T N I R U M I A X O R M E S W G O C E P T A O R A G E N H R D C O R A D I D I R A S O W L R O R S C L G U E H T L O C E N G S O R P E T H R A N R I A S C E B I S I D L E I O W E U R E Q E L R A A T A Q R T U E A P E I A N G A R O X T H H E T H U E T H I U U L E U R D R T A S B C R P C C E H T U U T B E N I U U O C L T G D C C R S S O L G D D U E H T L R A N E H E A N E A P E\n",
      "\n",
      "H F\n",
      "M I C I O M I D I A N C R R S Q E L X H I M T G S R A R A N R I I S W I F G C E P T M F U E O E N C R S S P C T T U R A D R A R A N R I I A N B E A O O T E A D U I A N O T S O G N X U I B C E L E O G L A E N O T R A N R I I S I U I B X E L I A N S O I L O E N F L I P O R P R A D U I B C E B I S O C E D L E I O U E I N E L T H O C E R A N R I A R A N E F E A N E A P E M T Q E M E A O B C T S O L G D D U E N I U T O H T L O C E H L E E N T M T H R A N R I I S I M E M W E L T H O C E R A N R I A A I O R T A I U P T A D L E S S C E S O I L O E N R A N E F E A N E A P E M T Q E M E A O S U R D E A T A P T T F E L I O R T A P R Q R U N R S T W E N R E A P E I A N U I O E L J G R O R A N R I M T Q E M E A O B C R P C W E P I M E S G P P E S S H G U I A N C E U F E N R A N R I R A D E O O R A D H L E E N T M I S I D L E I O H L E E N T M H R D C O E L C E D T O I L L E S O E N I A N B I S S E A O O T N I R U M I A X O R M E S W G O C E P T A O R A G E N H R D C O R A D I D I R A S O W L R O R S C L G U E H T L O C E N G S O R P E T H R A N R I A S C E B I S I D L E I O W E U R E Q E L R A A T A Q R T U E A P E I A N G A R O X T H F E T F U E T H I U U L E U R D R T A S B C R P C C E H T U U T B E N I U U O C L T G D C C R S S O L G D D U E H T L R A N E F E A N E A P E\n",
      "\n",
      "Q Y\n",
      "M I C I O M I D I A N C R R S Y E L X H I M T G S R A R A N R I I S W I F G C E P T M F U E O E N C R S S P C T T U R A D R A R A N R I I A N B E A O O T E A D U I A N O T S O G N X U I B C E L E O G L A E N O T R A N R I I S I U I B X E L I A N S O I L O E N F L I P O R P R A D U I B C E B I S O C E D L E I O U E I N E L T H O C E R A N R I A R A N E F E A N E A P E M T Y E M E A O B C T S O L G D D U E N I U T O H T L O C E H L E E N T M T H R A N R I I S I M E M W E L T H O C E R A N R I A A I O R T A I U P T A D L E S S C E S O I L O E N R A N E F E A N E A P E M T Y E M E A O S U R D E A T A P T T F E L I O R T A P R Y R U N R S T W E N R E A P E I A N U I O E L J G R O R A N R I M T Y E M E A O B C R P C W E P I M E S G P P E S S H G U I A N C E U F E N R A N R I R A D E O O R A D H L E E N T M I S I D L E I O H L E E N T M H R D C O E L C E D T O I L L E S O E N I A N B I S S E A O O T N I R U M I A X O R M E S W G O C E P T A O R A G E N H R D C O R A D I D I R A S O W L R O R S C L G U E H T L O C E N G S O R P E T H R A N R I A S C E B I S I D L E I O W E U R E Y E L R A A T A Y R T U E A P E I A N G A R O X T H F E T F U E T H I U U L E U R D R T A S B C R P C C E H T U U T B E N I U U O C L T G D C C R S S O L G D D U E H T L R A N E F E A N E A P E\n",
      "\n",
      "W W\n",
      "M I C I O M I D I A N C R R S Y E L X H I M T G S R A R A N R I I S W I F G C E P T M F U E O E N C R S S P C T T U R A D R A R A N R I I A N B E A O O T E A D U I A N O T S O G N X U I B C E L E O G L A E N O T R A N R I I S I U I B X E L I A N S O I L O E N F L I P O R P R A D U I B C E B I S O C E D L E I O U E I N E L T H O C E R A N R I A R A N E F E A N E A P E M T Y E M E A O B C T S O L G D D U E N I U T O H T L O C E H L E E N T M T H R A N R I I S I M E M W E L T H O C E R A N R I A A I O R T A I U P T A D L E S S C E S O I L O E N R A N E F E A N E A P E M T Y E M E A O S U R D E A T A P T T F E L I O R T A P R Y R U N R S T W E N R E A P E I A N U I O E L J G R O R A N R I M T Y E M E A O B C R P C W E P I M E S G P P E S S H G U I A N C E U F E N R A N R I R A D E O O R A D H L E E N T M I S I D L E I O H L E E N T M H R D C O E L C E D T O I L L E S O E N I A N B I S S E A O O T N I R U M I A X O R M E S W G O C E P T A O R A G E N H R D C O R A D I D I R A S O W L R O R S C L G U E H T L O C E N G S O R P E T H R A N R I A S C E B I S I D L E I O W E U R E Y E L R A A T A Y R T U E A P E I A N G A R O X T H F E T F U E T H I U U L E U R D R T A S B C R P C C E H T U U T B E N I U U O C L T G D C C R S S O L G D D U E H T L R A N E F E A N E A P E\n",
      "\n",
      "X K\n",
      "M I C I O M I D I A N C R R S Y E L K H I M T G S R A R A N R I I S W I F G C E P T M F U E O E N C R S S P C T T U R A D R A R A N R I I A N B E A O O T E A D U I A N O T S O G N K U I B C E L E O G L A E N O T R A N R I I S I U I B K E L I A N S O I L O E N F L I P O R P R A D U I B C E B I S O C E D L E I O U E I N E L T H O C E R A N R I A R A N E F E A N E A P E M T Y E M E A O B C T S O L G D D U E N I U T O H T L O C E H L E E N T M T H R A N R I I S I M E M W E L T H O C E R A N R I A A I O R T A I U P T A D L E S S C E S O I L O E N R A N E F E A N E A P E M T Y E M E A O S U R D E A T A P T T F E L I O R T A P R Y R U N R S T W E N R E A P E I A N U I O E L J G R O R A N R I M T Y E M E A O B C R P C W E P I M E S G P P E S S H G U I A N C E U F E N R A N R I R A D E O O R A D H L E E N T M I S I D L E I O H L E E N T M H R D C O E L C E D T O I L L E S O E N I A N B I S S E A O O T N I R U M I A K O R M E S W G O C E P T A O R A G E N H R D C O R A D I D I R A S O W L R O R S C L G U E H T L O C E N G S O R P E T H R A N R I A S C E B I S I D L E I O W E U R E Y E L R A A T A Y R T U E A P E I A N G A R O K T H F E T F U E T H I U U L E U R D R T A S B C R P C C E H T U U T B E N I U U O C L T G D C C R S S O L G D D U E H T L R A N E F E A N E A P E\n",
      "\n",
      "N V\n",
      "M I C I O M I D I A N C R R S Y E L K H I M T G S R A R A N R I I S W I F G C E P T M F U E O E N C R S S P C T T U R A D R A R A N R I I A N B E A O O T E A D U I A N O T S O G N K U I B C E L E O G L A E N O T R A N R I I S I U I B K E L I A N S O I L O E N F L I P O R P R A D U I B C E B I S O C E D L E I O U E I N E L T H O C E R A N R I A R A N E F E A N E A P E M T Y E M E A O B C T S O L G D D U E N I U T O H T L O C E H L E E N T M T H R A N R I I S I M E M W E L T H O C E R A N R I A A I O R T A I U P T A D L E S S C E S O I L O E N R A N E F E A N E A P E M T Y E M E A O S U R D E A T A P T T F E L I O R T A P R Y R U N R S T W E N R E A P E I A N U I O E L J G R O R A N R I M T Y E M E A O B C R P C W E P I M E S G P P E S S H G U I A N C E U F E N R A N R I R A D E O O R A D H L E E N T M I S I D L E I O H L E E N T M H R D C O E L C E D T O I L L E S O E N I A N B I S S E A O O T V I R U M I A K O R M E S W G O C E P T A O R A G E N H R D C O R A D I D I R A S O W L R O R S C L G U E H T L O C E V G S O R P E T H R A N R I A S C E B I S I D L E I O W E U R E Y E L R A A T A Y R T U E A P E I A N G A R O K T H F E T F U E T H I U U L E U R D R T A S B C R P C C E H T U U T B E N I U U O C L T G D C C R S S O L G D D U E H T L R A N E F E A N E A P E\n",
      "\n",
      "D X\n",
      "M I C I O M I D I A N C R R S Y E L K H I M T G S R A R A N R I I S W I F G C E P T M F U E O E N C R S S P C T T U R A D R A R A N R I I A N B E A O O T E A D U I A N O T S O G N K U I B C E L E O G L A E N O T R A N R I I S I U I B K E L I A N S O I L O E N F L I P O R P R A D U I B C E B I S O C E D L E I O U E I N E L T H O C E R A N R I A R A N E F E A N E A P E M T Y E M E A O B C T S O L G D D U E N I U T O H T L O C E H L E E N T M T H R A N R I I S I M E M W E L T H O C E R A N R I A A I O R T A I U P T A D L E S S C E S O I L O E N R A N E F E A N E A P E M T Y E M E A O S U R X E A T A P T T F E L I O R T A P R Y R U N R S T W E N R E A P E I A N U I O E L J G R O R A N R I M T Y E M E A O B C R P C W E P I M E S G P P E S S H G U I A N C E U F E N R A N R I R A D E O O R A D H L E E N T M I S I D L E I O H L E E N T M H R D C O E L C E D T O I L L E S O E N I A N B I S S E A O O T V I R U M I A K O R M E S W G O C E P T A O R A G E N H R D C O R A D I D I R A S O W L R O R S C L G U E H T L O C E V G S O R P E T H R A N R I A S C E B I S I D L E I O W E U R E Y E L R A A T A Y R T U E A P E I A N G A R O K T H F E T F U E T H I U U L E U R D R T A S B C R P C C E H T U U T B E N I U U O C L T G D C C R S S O L G D D U E H T L R A N E F E A N E A P E\n",
      "\n",
      "J Z\n",
      "M I C I O M I D I A N C R R S Y E L K H I M T G S R A R A N R I I S W I F G C E P T M F U E O E N C R S S P C T T U R A D R A R A N R I I A N B E A O O T E A D U I A N O T S O G N K U I B C E L E O G L A E N O T R A N R I I S I U I B K E L I A N S O I L O E N F L I P O R P R A D U I B C E B I S O C E D L E I O U E I N E L T H O C E R A N R I A R A N E F E A N E A P E M T Y E M E A O B C T S O L G D D U E N I U T O H T L O C E H L E E N T M T H R A N R I I S I M E M W E L T H O C E R A N R I A A I O R T A I U P T A D L E S S C E S O I L O E N R A N E F E A N E A P E M T Y E M E A O S U R X E A T A P T T F E L I O R T A P R Y R U N R S T W E N R E A P E I A N U I O E L Z G R O R A N R I M T Y E M E A O B C R P C W E P I M E S G P P E S S H G U I A N C E U F E N R A N R I R A D E O O R A D H L E E N T M I S I D L E I O H L E E N T M H R D C O E L C E D T O I L L E S O E N I A N B I S S E A O O T V I R U M I A K O R M E S W G O C E P T A O R A G E N H R D C O R A D I D I R A S O W L R O R S C L G U E H T L O C E V G S O R P E T H R A N R I A S C E B I S I D L E I O W E U R E Y E L R A A T A Y R T U E A P E I A N G A R O K T H F E T F U E T H I U U L E U R D R T A S B C R P C C E H T U U T B E N I U U O C L T G D C C R S S O L G D D U E H T L R A N E F E A N E A P E\n",
      "\n",
      "Y J\n",
      "M I C I O M I D I A N C R R S Y E L K H I M T G S R A R A N R I I S W I F G C E P T M F U E O E N C R S S P C T T U R A D R A R A N R I I A N B E A O O T E A D U I A N O T S O G N K U I B C E L E O G L A E N O T R A N R I I S I U I B K E L I A N S O I L O E N F L I P O R P R A D U I B C E B I S O C E D L E I O U E I N E L T H O C E R A N R I A R A N E F E A N E A P E M T Y E M E A O B C T S O L G D D U E N I U T O H T L O C E H L E E N T M T H R A N R I I S I M E M W E L T H O C E R A N R I A A I O R T A I U P T A D L E S S C E S O I L O E N R A N E F E A N E A P E M T Y E M E A O S U R X E A T A P T T F E L I O R T A P R Y R U N R S T W E N R E A P E I A N U I O E L Z G R O R A N R I M T Y E M E A O B C R P C W E P I M E S G P P E S S H G U I A N C E U F E N R A N R I R A D E O O R A D H L E E N T M I S I D L E I O H L E E N T M H R D C O E L C E D T O I L L E S O E N I A N B I S S E A O O T V I R U M I A K O R M E S W G O C E P T A O R A G E N H R D C O R A D I D I R A S O W L R O R S C L G U E H T L O C E V G S O R P E T H R A N R I A S C E B I S I D L E I O W E U R E Y E L R A A T A Y R T U E A P E I A N G A R O K T H F E T F U E T H I U U L E U R D R T A S B C R P C C E H T U U T B E N I U U O C L T G D C C R S S O L G D D U E H T L R A N E F E A N E A P E\n",
      "\n",
      "V Q\n",
      "M I C I O M I D I A N C R R S Y E L K H I M T G S R A R A N R I I S W I F G C E P T M F U E O E N C R S S P C T T U R A D R A R A N R I I A N B E A O O T E A D U I A N O T S O G N K U I B C E L E O G L A E N O T R A N R I I S I U I B K E L I A N S O I L O E N F L I P O R P R A D U I B C E B I S O C E D L E I O U E I N E L T H O C E R A N R I A R A N E F E A N E A P E M T Y E M E A O B C T S O L G D D U E N I U T O H T L O C E H L E E N T M T H R A N R I I S I M E M W E L T H O C E R A N R I A A I O R T A I U P T A D L E S S C E S O I L O E N R A N E F E A N E A P E M T Y E M E A O S U R X E A T A P T T F E L I O R T A P R Y R U N R S T W E N R E A P E I A N U I O E L Z G R O R A N R I M T Y E M E A O B C R P C W E P I M E S G P P E S S H G U I A N C E U F E N R A N R I R A D E O O R A D H L E E N T M I S I D L E I O H L E E N T M H R D C O E L C E D T O I L L E S O E N I A N B I S S E A O O T V I R U M I A K O R M E S W G O C E P T A O R A G E N H R D C O R A D I D I R A S O W L R O R S C L G U E H T L O C E V G S O R P E T H R A N R I A S C E B I S I D L E I O W E U R E Y E L R A A T A Y R T U E A P E I A N G A R O K T H F E T F U E T H I U U L E U R D R T A S B C R P C C E H T U U T B E N I U U O C L T G D C C R S S O L G D D U E H T L R A N E F E A N E A P E\n",
      "\n"
     ]
    }
   ],
   "source": [
    "def replace(s, a, b):\n",
    "    print(a, b)\n",
    "    for i, t in enumerate(_s):\n",
    "        if t is a:\n",
    "            s = list(s);\n",
    "            s[i] = b\n",
    "            s = ''.join(s)\n",
    "    return s\n",
    "\n",
    "def sep(s):\n",
    "    return ' '.join(list(s))\n",
    "\n",
    "for i, each in enumerate(english_freq):\n",
    "    s = replace(s, freq[i][0], each)\n",
    "    print(sep(s))\n",
    "    print()"
   ]
  },
  {
   "cell_type": "code",
   "execution_count": 68,
   "metadata": {
    "collapsed": true
   },
   "outputs": [],
   "source": [
    "def ngram(s, n):\n",
    "    i =0\n",
    "    m = {}\n",
    "    while(i < (len(s))):\n",
    "        t = s[i:i+n]\n",
    "        if t in m.keys():\n",
    "            m[t] = m[t]+1\n",
    "        else:\n",
    "            m[t] = 1\n",
    "        i = i+n\n",
    "    return sorted(m.items(), key = lambda t : t[1], reverse = True)\n",
    "bigram_freq = ngram(_s, 2)\n",
    "trigram_freq = ngram(_s, 3)\n",
    "quadgram_freq = ngram(_s, 4)\n",
    "        "
   ]
  },
  {
   "cell_type": "code",
   "execution_count": 69,
   "metadata": {},
   "outputs": [
    {
     "name": "stdout",
     "output_type": "stream",
     "text": [
      "[('Z', 86), ('F', 60), ('A', 58), ('S', 56), ('O', 47), ('G', 41), ('T', 39), ('M', 32), ('K', 31), ('L', 29), ('B', 28), ('R', 21), ('I', 19), ('C', 18), ('E', 17), ('P', 15), ('U', 11), ('H', 10), ('Q', 7), ('W', 7), ('X', 5), ('N', 2), ('D', 1), ('J', 1), ('Y', 0), ('V', 0)]\n"
     ]
    }
   ],
   "source": [
    "print(freq)"
   ]
  },
  {
   "cell_type": "code",
   "execution_count": 70,
   "metadata": {},
   "outputs": [
    {
     "name": "stdout",
     "output_type": "stream",
     "text": [
      "[('FT', 11), ('ZF', 10), ('SF', 7), ('ZK', 7), ('AF', 7), ('AS', 6), ('BZ', 6), ('ZT', 6), ('TA', 6), ('OL', 6), ('LZ', 5), ('KZ', 5), ('SO', 5), ('GE', 5), ('ZM', 5), ('FA', 4), ('MO', 4), ('OA', 4), ('GF', 4), ('SR', 3), ('TL', 3), ('SM', 3), ('GB', 3), ('OO', 3), ('FR', 3), ('BS', 3), ('MS', 3), ('OS', 3), ('KO', 3), ('TZ', 3), ('FI', 3), ('ZC', 3), ('KP', 3), ('TS', 3), ('CZ', 3), ('AG', 3), ('HZ', 3), ('IZ', 3), ('ZB', 3), ('FM', 3), ('KA', 3), ('SC', 2), ('IG', 2), ('OZ', 2), ('AM', 2), ('LG', 2), ('OG', 2), ('SS', 2), ('UL', 2), ('ZA', 2), ('ZH', 2), ('GQ', 2), ('OU', 2), ('RR', 2), ('BG', 2), ('ZE', 2), ('GC', 2), ('FF', 2), ('RK', 2), ('ML', 2), ('QZ', 2), ('GH', 2), ('WZ', 2), ('AR', 2), ('US', 2), ('SA', 2), ('EA', 2), ('OW', 2), ('EG', 2), ('AI', 2), ('LL', 2), ('CS', 1), ('LS', 1), ('OC', 1), ('AA', 1), ('MQ', 1), ('XE', 1), ('GP', 1), ('MA', 1), ('WS', 1), ('HP', 1), ('CH', 1), ('MI', 1), ('RA', 1), ('TU', 1), ('GZ', 1), ('PT', 1), ('XB', 1), ('SU', 1), ('OP', 1), ('KF', 1), ('UX', 1), ('TM', 1), ('HK', 1), ('SI', 1), ('IA', 1), ('ZU', 1), ('ZR', 1), ('ST', 1), ('OE', 1), ('GK', 1), ('CW', 1), ('FS', 1), ('BI', 1), ('CG', 1), ('FO', 1), ('MB', 1), ('AD', 1), ('AQ', 1), ('AB', 1), ('MG', 1), ('TB', 1), ('JP', 1), ('AO', 1), ('LA', 1), ('IL', 1), ('IS', 1), ('MP', 1), ('II', 1), ('ME', 1), ('PB', 1), ('RZ', 1), ('RE', 1), ('EK', 1), ('ZZ', 1), ('TG', 1), ('CE', 1), ('LO', 1), ('RG', 1), ('KK', 1), ('MM', 1), ('GN', 1), ('BC', 1), ('XO', 1), ('AC', 1), ('WP', 1), ('ZI', 1), ('FP', 1), ('RL', 1), ('NP', 1), ('ZG', 1), ('ZS', 1), ('AZ', 1), ('QA', 1), ('TP', 1), ('OX', 1), ('SB', 1), ('BK', 1), ('UZ', 1), ('BB', 1), ('KG', 1), ('PR', 1), ('Z', 1)]\n",
      "\n"
     ]
    }
   ],
   "source": [
    "print(bigram_freq)\n",
    "print()"
   ]
  },
  {
   "cell_type": "code",
   "execution_count": 71,
   "metadata": {},
   "outputs": [
    {
     "name": "stdout",
     "output_type": "stream",
     "text": [
      "[('AFT', 4), ('SFT', 4), ('FTA', 3), ('ASS', 2), ('ZFO', 2), ('FRB', 2), ('TAS', 2), ('SMS', 2), ('MOS', 2), ('KOZ', 2), ('ZSO', 2), ('FTZ', 2), ('HZF', 2), ('TZF', 2), ('GQZ', 2), ('CZF', 2), ('OUL', 2), ('GKO', 2), ('GEA', 2), ('SCZ', 2), ('OLZ', 2), ('KZM', 2), ('TAF', 2), ('AFR', 2), ('EKZ', 2), ('ZTG', 2), ('BZE', 2), ('ZBA', 2), ('CSL', 1), ('SOC', 1), ('SRS', 1), ('FTL', 1), ('AAM', 1), ('QZK', 1), ('XES', 1), ('CGP', 1), ('MAF', 1), ('MWS', 1), ('HPL', 1), ('ZIG', 1), ('CHB', 1), ('ZOZ', 1), ('TLA', 1), ('MMI', 1), ('LGG', 1), ('BAF', 1), ('RAF', 1), ('FTU', 1), ('OGZ', 1), ('OGM', 1), ('OPT', 1), ('XBS', 1), ('ULZ', 1), ('KZO', 1), ('PKF', 1), ('ZTO', 1), ('GAF', 1), ('BSU', 1), ('XZK', 1), ('THK', 1), ('SIO', 1), ('AIA', 1), ('SUL', 1), ('ZUS', 1), ('MOL', 1), ('ZRK', 1), ('BZS', 1), ('TZK', 1), ('GEO', 1), ('LZA', 1), ('SFA', 1), ('IZC', 1), ('GMO', 1), ('KPR', 1), ('RBZ', 1), ('TSB', 1), ('GOE', 1), ('LZE', 1), ('KZZ', 1), ('TGC', 1), ('SSM', 1), ('CWZ', 1), ('KGE', 1), ('ASF', 1), ('FSO', 1), ('AGF', 1), ('SBI', 1), ('GFR', 1), ('MLZ', 1), ('TZH', 1), ('ZFT', 1), ('ZFI', 1), ('ZCG', 1), ('QZC', 1), ('MBA', 1), ('DZF', 1), ('GFI', 1), ('GGH', 1), ('ZKS', 1), ('OAG', 1), ('FIA', 1), ('QAB', 1), ('TAM', 1), ('GWZ', 1), ('TAZ', 1), ('FIZ', 1), ('BSO', 1), ('ZKJ', 1), ('PAO', 1), ('ASC', 1), ('AIL', 1), ('WZI', 1), ('MPI', 1), ('IZM', 1), ('MEP', 1), ('BSF', 1), ('TLZ', 1), ('BHZ', 1), ('ZOO', 1), ('CSM', 1), ('SRK', 1), ('CEA', 1), ('RLO', 1), ('ZKL', 1), ('ZRG', 1), ('OSK', 1), ('OZT', 1), ('USM', 1), ('MZF', 1), ('OOG', 1), ('NSA', 1), ('BCS', 1), ('FXO', 1), ('ACZ', 1), ('MWP', 1), ('IGF', 1), ('OAF', 1), ('PZT', 1), ('EAR', 1), ('LOA', 1), ('FRS', 1), ('RSA', 1), ('FMO', 1), ('WKA', 1), ('OAM', 1), ('LKP', 1), ('LZN', 1), ('PMO', 1), ('AIZ', 1), ('SFM', 1), ('LZU', 1), ('RKZ', 1), ('SOW', 1), ('ZQZ', 1), ('KAF', 1), ('FGF', 1), ('QAG', 1), ('BZF', 1), ('IZS', 1), ('FTP', 1), ('FAO', 1), ('XGE', 1), ('HZG', 1), ('HBZ', 1), ('GES', 1), ('BBK', 1), ('RAG', 1), ('FMU', 1), ('LAI', 1), ('LLZ', 1), ('EGB', 1), ('BGU', 1), ('ZTS', 1), ('BBO', 1), ('LKG', 1), ('PRL', 1), ('LAM', 1), ('MOK', 1), ('PRR', 1), ('GKA', 1), ('IZ', 1)]\n"
     ]
    }
   ],
   "source": [
    "print(trigram_freq)"
   ]
  },
  {
   "cell_type": "code",
   "execution_count": 72,
   "metadata": {},
   "outputs": [
    {
     "name": "stdout",
     "output_type": "stream",
     "text": [
      "[('FTAS', 4), ('SFTL', 2), ('ZFOO', 2), ('OSKO', 2), ('ZKGE', 2), ('OLZA', 2), ('ZHZF', 2), ('TZFI', 2), ('KZZT', 2), ('BZEG', 2), ('CSLS', 1), ('OCSR', 1), ('AAMQ', 1), ('ZKXE', 1), ('SCGP', 1), ('MAFA', 1), ('SMWS', 1), ('HPLZ', 1), ('IGCH', 1), ('BZOZ', 1), ('TLAM', 1), ('MILG', 1), ('GBAF', 1), ('RAFA', 1), ('SFTU', 1), ('GZFR', 1), ('BSFT', 1), ('OGMO', 1), ('PTXB', 1), ('SULZ', 1), ('KZOP', 1), ('KFZT', 1), ('OGAF', 1), ('TASS', 1), ('MSBS', 1), ('UXZK', 1), ('SFTM', 1), ('ZTHK', 1), ('SIOA', 1), ('IAFR', 1), ('BSUL', 1), ('ZUSM', 1), ('OLZR', 1), ('KZSO', 1), ('BZST', 1), ('FAFT', 1), ('ZCGQ', 1), ('ZCZF', 1), ('OULG', 1), ('MOKP', 1), ('RRBZ', 1), ('TSBG', 1), ('OEGK', 1), ('OLZE', 1), ('GCGE', 1), ('AFTA', 1), ('SSMS', 1), ('CZCW', 1), ('FFSO', 1), ('AGFS', 1), ('BIGF', 1), ('RKZM', 1), ('MLZM', 1), ('ZTAF', 1), ('TZHZ', 1), ('FTZF', 1), ('IZCG', 1), ('QZCZ', 1), ('FOMB', 1), ('ADZF', 1), ('GFIG', 1), ('GHZK', 1), ('SOAG', 1), ('FIAQ', 1), ('ABTA', 1), ('MGWZ', 1), ('TAZF', 1), ('IZSF', 1), ('TBSO', 1), ('ZKJP', 1), ('AOAF', 1), ('TASC', 1), ('GQZC', 1), ('ZFOU', 1), ('LAIL', 1), ('WZIS', 1), ('CZMP', 1), ('IIZM', 1), ('MEPB', 1), ('ZBHZ', 1), ('TAFT', 1), ('ASAF', 1), ('RZOO', 1), ('AFRE', 1), ('GCSM', 1), ('SRKZ', 1), ('SOEK', 1), ('ZZTG', 1), ('CEAR', 1), ('LOZK', 1), ('LZRG', 1), ('OSKK', 1), ('ZMOZ', 1), ('TSFT', 1), ('USMM', 1), ('GNSA', 1), ('BCSF', 1), ('XOAC', 1), ('ZMWP', 1), ('OLZI', 1), ('GFOA', 1), ('FPZT', 1), ('EARL', 1), ('OAFR', 1), ('SRSA', 1), ('FMOW', 1), ('KAOA', 1), ('MLKP', 1), ('KOLZ', 1), ('NPMO', 1), ('AIZG', 1), ('EAFT', 1), ('ASFM', 1), ('LZUS', 1), ('MSRK', 1), ('ZSOW', 1), ('ZBAZ', 1), ('QZKA', 1), ('FFGF', 1), ('QAGB', 1), ('ZFIZ', 1), ('SFTP', 1), ('FAOX', 1), ('GEHZ', 1), ('GHBZ', 1), ('GESB', 1), ('BKZB', 1), ('ARAG', 1), ('FMUL', 1), ('AILL', 1), ('ZEGB', 1), ('BGUZ', 1), ('TSBB', 1), ('OLKG', 1), ('PRLL', 1), ('AMMO', 1), ('KPRR', 1), ('KAFT', 1), ('Z', 1)]\n"
     ]
    }
   ],
   "source": [
    "print(quadgram_freq)"
   ]
  },
  {
   "cell_type": "code",
   "execution_count": 73,
   "metadata": {},
   "outputs": [
    {
     "name": "stdout",
     "output_type": "stream",
     "text": [
      "MICIOMIDIANCRRSYELKHIMTGSRARANRIISWIFGCEPTMFUEOENCRSSPCTTURADRARANRIIANBEAOOTEADUIANOTSOGNKUIBCELEOGLAENOTRANRIISIUIBKELIANSOILOENFLIPORPRADUIBCEBISOCEDLEIOUEINELTHOCERANRIARANEFEANEAPEMTYEMEAOBCTSOLGDDUENIUTOHTLOCEHLEENTMTHRANRIISIMEMWELTHOCERANRIAAIORTAIUPTADLESSCESOILOENRANEFEANEAPEMTYEMEAOSURXEATAPTTFELIORTAPRYRUNRSTWENREAPEIANUIOELZGRORANRIMTYEMEAOBCRPCWEPIMESGPPESSHGUIANCEUFENRANRIRADEOORADHLEENTMISIDLEIOHLEENTMHRDCOELCEDTOILLESOENIANBISSEAOOTVIRUMIAKORMESWGOCEPTAORAGENHRDCORADIDIRASOWLRORSCLGUEHTLOCEVGSORPETHRANRIASCEBISIDLEIOWEUREYELRAATAYRTUEAPEIANGAROKTHFETFUETHIUULEURDRTASBCRPCCEHTUUTBENIUUOCLTGDCCRSSOLGDDUEHTLRANEFEANEAPE\n"
     ]
    }
   ],
   "source": [
    "p = 'MICIOMIDIANCRRSYELKHIMTGSRARANRIISWIFGCEPTMFUEOENCRSSPCTTURADRARANRIIANBEAOOTEADUIANOTSOGNKUIBCELEOGLAENOTRANRIISIUIBKELIANSOILOENFLIPORPRADUIBCEBISOCEDLEIOUEINELTHOCERANRIARANEFEANEAPEMTYEMEAOBCTSOLGDDUENIUTOHTLOCEHLEENTMTHRANRIISIMEMWELTHOCERANRIAAIORTAIUPTADLESSCESOILOENRANEFEANEAPEMTYEMEAOSURXEATAPTTFELIORTAPRYRUNRSTWENREAPEIANUIOELZGRORANRIMTYEMEAOBCRPCWEPIMESGPPESSHGUIANCEUFENRANRIRADEOORADHLEENTMISIDLEIOHLEENTMHRDCOELCEDTOILLESOENIANBISSEAOOTVIRUMIAKORMESWGOCEPTAORAGENHRDCORADIDIRASOWLRORSCLGUEHTLOCEVGSORPETHRANRIASCEBISIDLEIOWEUREYELRAATAYRTUEAPEIANGAROKTHFETFUETHIUULEURDRTASBCRPCCEHTUUTBENIUUOCLTGDCCRSSOLGDDUEHTLRANEFEANEAPE'\n",
    "print(p)"
   ]
  },
  {
   "cell_type": "code",
   "execution_count": 74,
   "metadata": {},
   "outputs": [
    {
     "name": "stdout",
     "output_type": "stream",
     "text": [
      "[('ANRI', 4), ('IANC', 2), ('EAOO', 2), ('OILO', 2), ('ELTH', 2), ('OCER', 2), ('EFEA', 2), ('NEAP', 2), ('LEEN', 2), ('UEHT', 2), ('MICI', 1), ('OMID', 1), ('RRSY', 1), ('ELKH', 1), ('IMTG', 1), ('SRAR', 1), ('ISWI', 1), ('FGCE', 1), ('PTMF', 1), ('UEOE', 1), ('NCRS', 1), ('SPCT', 1), ('TURA', 1), ('DRAR', 1), ('IANB', 1), ('TEAD', 1), ('UIAN', 1), ('OTSO', 1), ('GNKU', 1), ('IBCE', 1), ('LEOG', 1), ('LAEN', 1), ('OTRA', 1), ('NRII', 1), ('SIUI', 1), ('BKEL', 1), ('IANS', 1), ('ENFL', 1), ('IPOR', 1), ('PRAD', 1), ('UIBC', 1), ('EBIS', 1), ('OCED', 1), ('LEIO', 1), ('UEIN', 1), ('ARAN', 1), ('EMTY', 1), ('EMEA', 1), ('OBCT', 1), ('SOLG', 1), ('DDUE', 1), ('NIUT', 1), ('OHTL', 1), ('OCEH', 1), ('TMTH', 1), ('RANR', 1), ('IISI', 1), ('MEMW', 1), ('AAIO', 1), ('RTAI', 1), ('UPTA', 1), ('DLES', 1), ('SCES', 1), ('ENRA', 1), ('NEFE', 1), ('ANEA', 1), ('PEMT', 1), ('YEME', 1), ('AOSU', 1), ('RXEA', 1), ('TAPT', 1), ('TFEL', 1), ('IORT', 1), ('APRY', 1), ('RUNR', 1), ('STWE', 1), ('NREA', 1), ('PEIA', 1), ('NUIO', 1), ('ELZG', 1), ('RORA', 1), ('NRIM', 1), ('TYEM', 1), ('EAOB', 1), ('CRPC', 1), ('WEPI', 1), ('MESG', 1), ('PPES', 1), ('SHGU', 1), ('EUFE', 1), ('NRAN', 1), ('RIRA', 1), ('DEOO', 1), ('RADH', 1), ('TMIS', 1), ('IDLE', 1), ('IOHL', 1), ('EENT', 1), ('MHRD', 1), ('COEL', 1), ('CEDT', 1), ('OILL', 1), ('ESOE', 1), ('NIAN', 1), ('BISS', 1), ('TVIR', 1), ('UMIA', 1), ('KORM', 1), ('ESWG', 1), ('OCEP', 1), ('TAOR', 1), ('AGEN', 1), ('HRDC', 1), ('ORAD', 1), ('IDIR', 1), ('ASOW', 1), ('LROR', 1), ('SCLG', 1), ('LOCE', 1), ('VGSO', 1), ('RPET', 1), ('HRAN', 1), ('RIAS', 1), ('CEBI', 1), ('SIDL', 1), ('EIOW', 1), ('EURE', 1), ('YELR', 1), ('AATA', 1), ('YRTU', 1), ('EAPE', 1), ('IANG', 1), ('AROK', 1), ('THFE', 1), ('TFUE', 1), ('THIU', 1), ('ULEU', 1), ('RDRT', 1), ('ASBC', 1), ('RPCC', 1), ('EHTU', 1), ('UTBE', 1), ('NIUU', 1), ('OCLT', 1), ('GDCC', 1), ('RSSO', 1), ('LGDD', 1), ('LRAN', 1), ('E', 1)]\n"
     ]
    }
   ],
   "source": [
    "print(ngram(p, 4))"
   ]
  },
  {
   "cell_type": "code",
   "execution_count": 75,
   "metadata": {},
   "outputs": [
    {
     "name": "stdout",
     "output_type": "stream",
     "text": [
      "[('RAN', 4), ('IAN', 4), ('ANR', 3), ('RII', 2), ('EAO', 2), ('ADU', 2), ('NRI', 2), ('ISI', 2), ('SOI', 2), ('LOE', 2), ('EIO', 2), ('ANE', 2), ('FEA', 2), ('NEA', 2), ('TYE', 2), ('MEA', 2), ('OBC', 2), ('TLO', 2), ('THR', 2), ('IME', 2), ('OCE', 2), ('LES', 2), ('NRA', 2), ('RAD', 2), ('HLE', 2), ('ENT', 2), ('UEH', 2), ('EUR', 2), ('MIC', 1), ('IOM', 1), ('IDI', 1), ('ANC', 1), ('RRS', 1), ('YEL', 1), ('KHI', 1), ('MTG', 1), ('SRA', 1), ('SWI', 1), ('FGC', 1), ('EPT', 1), ('MFU', 1), ('EOE', 1), ('NCR', 1), ('SSP', 1), ('CTT', 1), ('URA', 1), ('DRA', 1), ('ANB', 1), ('OTE', 1), ('OTS', 1), ('OGN', 1), ('KUI', 1), ('BCE', 1), ('LEO', 1), ('GLA', 1), ('ENO', 1), ('TRA', 1), ('UIB', 1), ('KEL', 1), ('NFL', 1), ('IPO', 1), ('RPR', 1), ('IBC', 1), ('EBI', 1), ('SOC', 1), ('EDL', 1), ('UEI', 1), ('NEL', 1), ('THO', 1), ('CER', 1), ('IAR', 1), ('PEM', 1), ('TSO', 1), ('LGD', 1), ('DUE', 1), ('NIU', 1), ('TOH', 1), ('CEH', 1), ('LEE', 1), ('NTM', 1), ('IIS', 1), ('MWE', 1), ('LTH', 1), ('RIA', 1), ('AIO', 1), ('RTA', 1), ('IUP', 1), ('TAD', 1), ('SCE', 1), ('NEF', 1), ('EAN', 1), ('EAP', 1), ('EMT', 1), ('YEM', 1), ('SUR', 1), ('XEA', 1), ('TAP', 1), ('TTF', 1), ('ELI', 1), ('ORT', 1), ('APR', 1), ('YRU', 1), ('NRS', 1), ('TWE', 1), ('NRE', 1), ('APE', 1), ('UIO', 1), ('ELZ', 1), ('GRO', 1), ('RIM', 1), ('RPC', 1), ('WEP', 1), ('SGP', 1), ('PES', 1), ('SHG', 1), ('UIA', 1), ('NCE', 1), ('UFE', 1), ('EOO', 1), ('MIS', 1), ('IDL', 1), ('MHR', 1), ('DCO', 1), ('ELC', 1), ('EDT', 1), ('OIL', 1), ('OEN', 1), ('BIS', 1), ('SEA', 1), ('OOT', 1), ('VIR', 1), ('UMI', 1), ('AKO', 1), ('RME', 1), ('SWG', 1), ('PTA', 1), ('ORA', 1), ('GEN', 1), ('HRD', 1), ('COR', 1), ('ADI', 1), ('DIR', 1), ('ASO', 1), ('WLR', 1), ('ORS', 1), ('CLG', 1), ('CEV', 1), ('GSO', 1), ('RPE', 1), ('IAS', 1), ('CEB', 1), ('DLE', 1), ('IOW', 1), ('EYE', 1), ('LRA', 1), ('ATA', 1), ('YRT', 1), ('UEA', 1), ('PEI', 1), ('ANG', 1), ('ARO', 1), ('KTH', 1), ('FET', 1), ('FUE', 1), ('THI', 1), ('UUL', 1), ('DRT', 1), ('ASB', 1), ('CRP', 1), ('CCE', 1), ('HTU', 1), ('UTB', 1), ('ENI', 1), ('UUO', 1), ('CLT', 1), ('GDC', 1), ('CRS', 1), ('SOL', 1), ('GDD', 1), ('TLR', 1), ('PE', 1)]\n"
     ]
    }
   ],
   "source": [
    "trigram = ngram(p, 3)\n",
    "print(trigram)"
   ]
  },
  {
   "cell_type": "code",
   "execution_count": 76,
   "metadata": {},
   "outputs": [
    {
     "data": {
      "text/plain": [
       "27"
      ]
     },
     "execution_count": 76,
     "metadata": {},
     "output_type": "execute_result"
    }
   ],
   "source": [
    "p.find('RAN')"
   ]
  },
  {
   "cell_type": "code",
   "execution_count": 77,
   "metadata": {},
   "outputs": [
    {
     "name": "stdout",
     "output_type": "stream",
     "text": [
      "MICIOMIDIANCRRSYELKHIMTGSRA RAN NRIISWIFGCEPTMFUEOENCRSSPCTTURADRA RAN NRIIANBEAOOTEADUIANOTSOGNKUIBCELEOGLAENOT RAN NRIISIUIBKELIANSOILOENFLIPORPRADUIBCEBISOCEDLEIOUEINELTHOCE RAN NRIA RAN NEFEANEAPEMTYEMEAOBCTSOLGDDUENIUTOHTLOCEHLEENTMTH RAN NRIISIMEMWELTHOCE RAN NRIAAIORTAIUPTADLESSCESOILOEN RAN NEFEANEAPEMTYEMEAOSURXEATAPTTFELIORTAPRYRUNRSTWENREAPEIANUIOELZGRO RAN NRIMTYEMEAOBCRPCWEPIMESGPPESSHGUIANCEUFEN RAN NRIRADEOORADHLEENTMISIDLEIOHLEENTMHRDCOELCEDTOILLESOENIANBISSEAOOTVIRUMIAKORMESWGOCEPTAORAGENHRDCORADIDIRASOWLRORSCLGUEHTLOCEVGSORPETH RAN NRIASCEBISIDLEIOWEUREYELRAATAYRTUEAPEIANGAROKTHFETFUETHIUULEURDRTASBCRPCCEHTUUTBENIUUOCLTGDCCRSSOLGDDUEHTL RAN NEFEANEAPE\n"
     ]
    }
   ],
   "source": [
    "l = len(p)\n",
    "i = 0;\n",
    "t = ''\n",
    "while(i < l):\n",
    "    if i+2<l and p[i] is 'R' and p[i+1] is 'A' and p[i+2] is 'N':\n",
    "        t = t + ' ' + (p[i]+p[i+1]+p[i+2])+ ' '\n",
    "        i = i + 2\n",
    "        continue\n",
    "    t = t + p[i]\n",
    "    i = i+1\n",
    "print(t)"
   ]
  },
  {
   "cell_type": "code",
   "execution_count": 78,
   "metadata": {},
   "outputs": [
    {
     "name": "stdout",
     "output_type": "stream",
     "text": [
      "MAICAIOMAIDAIANCRRSYELKHAIMTGSRARANRAIAISWAIFGCEPTMFUEOENCRSSPCTTURADRARANRAIAIANBEAOOTEADUAIANOTSOGNKUAIBCELEOGLAENOTRANRAIAISAIUAIBKELAIANSOAILOENFLAIPORPRADUAIBCEBAISOCEDLEAIOUEAINELTHOCERANRAIARANEFEANEAPEMTYEMEAOBCTSOLGDDUENAIUTOHTLOCEHLEENTMTHRANRAIAISAIMEMWELTHOCERANRAIAAAIORTAAIUPTADLESSCESOAILOENRANEFEANEAPEMTYEMEAOSURXEATAPTTFELAIORTAPRYRUNRSTWENREAPEAIANUAIOELZGRORANRAIMTYEMEAOBCRPCWEPAIMESGPPESSHGUAIANCEUFENRANRAIRADEOORADHLEENTMAISAIDLEAIOHLEENTMHRDCOELCEDTOAILLESOENAIANBAISSEAOOTVAIRUMAIAKORMESWGOCEPTAORAGENHRDCORADAIDAIRASOWLRORSCLGUEHTLOCEVGSORPETHRANRAIASCEBAISAIDLEAIOWEUREYELRAATAYRTUEAPEAIANGAROKTHFETFUETHAIUULEURDRTASBCRPCCEHTUUTBENAIUUOCLTGDCCRSSOLGDDUEHTLRANEFEANEAPE\n"
     ]
    }
   ],
   "source": [
    "l = len(p)\n",
    "i = 0;\n",
    "k = ''\n",
    "while(i < l):\n",
    "    if i+2<l and p[i] is 'I':\n",
    "        k = k + ('A')\n",
    "    k = k + p[i]\n",
    "    i = i+1\n",
    "print(k)"
   ]
  },
  {
   "cell_type": "code",
   "execution_count": 79,
   "metadata": {},
   "outputs": [
    {
     "name": "stdout",
     "output_type": "stream",
     "text": [
      "MICIOMIDIANCRRSYELKHIMTGSRARANRIISWIFGCEPTMFUEOENCRSSPCTTURADRARANRIIANBEAOOTEADUIANOTSOGNKUIBCELEOGLAENOTRANRIISIUIBKELIANSOILOENFLIPORPRADUIBCEBISOCEDLEIOUEINELTHOCERANRIARANEFEANEAPEMTYEMEAOBCTSOLGDDUENIUTOHTLOCEHLEENTMTHRANRIISIMEMWELTHOCERANRIAAIORTAIUPTADLESSCESOILOENRANEFEANEAPEMTYEMEAOSURXEATAPTTFELIORTAPRYRUNRSTWENREAPEIANUIOELZGRORANRIMTYEMEAOBCRPCWEPIMESGPPESSHGUIANCEUFENRANRIRADEOORADHLEENTMISIDLEIOHLEENTMHRDCOELCEDTOILLESOENIANBISSEAOOTVIRUMIAKORMESWGOCEPTAORAGENHRDCORADIDIRASOWLRORSCLGUEHTLOCEVGSORPETHRANRIASCEBISIDLEIOWEUREYELRAATAYRTUEAPEIANGAROKTHFETFUETHIUULEURDRTASBCRPCCEHTUUTBENIUUOCLTGDCCRSSOLGDDUEHTLRANEFEANEAPE\n"
     ]
    }
   ],
   "source": [
    "p = 'MICIOMIDIANCRRSYELKHIMTGSRARANRIISWIFGCEPTMFUEOENCRSSPCTTURADRARANRIIANBEAOOTEADUIANOTSOGNKUIBCELEOGLAENOTRANRIISIUIBKELIANSOILOENFLIPORPRADUIBCEBISOCEDLEIOUEINELTHOCERANRIARANEFEANEAPEMTYEMEAOBCTSOLGDDUENIUTOHTLOCEHLEENTMTHRANRIISIMEMWELTHOCERANRIAAIORTAIUPTADLESSCESOILOENRANEFEANEAPEMTYEMEAOSURXEATAPTTFELIORTAPRYRUNRSTWENREAPEIANUIOELZGRORANRIMTYEMEAOBCRPCWEPIMESGPPESSHGUIANCEUFENRANRIRADEOORADHLEENTMISIDLEIOHLEENTMHRDCOELCEDTOILLESOENIANBISSEAOOTVIRUMIAKORMESWGOCEPTAORAGENHRDCORADIDIRASOWLRORSCLGUEHTLOCEVGSORPETHRANRIASCEBISIDLEIOWEUREYELRAATAYRTUEAPEIANGAROKTHFETFUETHIUULEURDRTASBCRPCCEHTUUTBENIUUOCLTGDCCRSSOLGDDUEHTLRANEFEANEAPE'\n",
    "print(p)"
   ]
  },
  {
   "cell_type": "code",
   "execution_count": 80,
   "metadata": {},
   "outputs": [
    {
     "name": "stdout",
     "output_type": "stream",
     "text": [
      "[('AN', 11), ('EA', 10), ('IA', 7), ('EL', 7), ('RA', 7), ('RI', 6), ('UE', 6), ('EN', 6), ('NR', 6), ('OC', 6), ('CE', 5), ('LE', 5), ('IO', 5), ('TH', 5), ('ES', 5), ('AR', 4), ('SO', 4), ('OR', 4), ('TA', 4), ('ID', 3), ('NC', 3), ('IS', 3), ('TU', 3), ('OO', 3), ('AD', 3), ('UI', 3), ('SI', 3), ('OI', 3), ('LO', 3), ('NE', 3), ('AP', 3), ('EM', 3), ('LG', 3), ('NI', 3), ('ME', 3), ('RT', 3), ('FE', 3), ('PE', 3), ('EU', 3), ('AS', 3), ('LR', 3), ('IM', 2), ('PT', 2), ('OE', 2), ('RS', 2), ('CT', 2), ('OT', 2), ('II', 2), ('BC', 2), ('ER', 2), ('EF', 2), ('TY', 2), ('OB', 2), ('DD', 2), ('UT', 2), ('EH', 2), ('TM', 2), ('AA', 2), ('DL', 2), ('SC', 2), ('YE', 2), ('TF', 2), ('WE', 2), ('RD', 2), ('BI', 2), ('IR', 2), ('HR', 2), ('OW', 2), ('HT', 2), ('RP', 2), ('CC', 2), ('MI', 1), ('CI', 1), ('OM', 1), ('RR', 1), ('SY', 1), ('KH', 1), ('TG', 1), ('SR', 1), ('WI', 1), ('FG', 1), ('MF', 1), ('SP', 1), ('DR', 1), ('NB', 1), ('TE', 1), ('GN', 1), ('KU', 1), ('IB', 1), ('OG', 1), ('LA', 1), ('BK', 1), ('NS', 1), ('FL', 1), ('IP', 1), ('PR', 1), ('EB', 1), ('ED', 1), ('IN', 1), ('OH', 1), ('TL', 1), ('MW', 1), ('AI', 1), ('UP', 1), ('MT', 1), ('AO', 1), ('SU', 1), ('RX', 1), ('RY', 1), ('RU', 1), ('ST', 1), ('NU', 1), ('ZG', 1), ('RO', 1), ('CR', 1), ('PC', 1), ('PI', 1), ('SG', 1), ('PP', 1), ('SH', 1), ('GU', 1), ('DE', 1), ('DH', 1), ('HL', 1), ('EE', 1), ('NT', 1), ('MH', 1), ('CO', 1), ('DT', 1), ('LL', 1), ('SS', 1), ('TV', 1), ('UM', 1), ('KO', 1), ('RM', 1), ('WG', 1), ('EP', 1), ('AG', 1), ('DC', 1), ('VG', 1), ('ET', 1), ('EI', 1), ('RE', 1), ('YR', 1), ('NG', 1), ('OK', 1), ('IU', 1), ('UL', 1), ('BE', 1), ('UU', 1), ('LT', 1), ('GD', 1), ('E', 1)]\n"
     ]
    }
   ],
   "source": [
    "bigram = ngram(p, 2)\n",
    "print(bigram)"
   ]
  },
  {
   "cell_type": "code",
   "execution_count": 81,
   "metadata": {},
   "outputs": [
    {
     "name": "stdout",
     "output_type": "stream",
     "text": [
      "[('RAN', 4), ('IAN', 4), ('ANR', 3), ('RII', 2), ('EAO', 2), ('ADU', 2), ('NRI', 2), ('ISI', 2), ('SOI', 2), ('LOE', 2), ('EIO', 2), ('ANE', 2), ('FEA', 2), ('NEA', 2), ('TYE', 2), ('MEA', 2), ('OBC', 2), ('TLO', 2), ('THR', 2), ('IME', 2), ('OCE', 2), ('LES', 2), ('NRA', 2), ('RAD', 2), ('HLE', 2), ('ENT', 2), ('UEH', 2), ('EUR', 2), ('MIC', 1), ('IOM', 1), ('IDI', 1), ('ANC', 1), ('RRS', 1), ('YEL', 1), ('KHI', 1), ('MTG', 1), ('SRA', 1), ('SWI', 1), ('FGC', 1), ('EPT', 1), ('MFU', 1), ('EOE', 1), ('NCR', 1), ('SSP', 1), ('CTT', 1), ('URA', 1), ('DRA', 1), ('ANB', 1), ('OTE', 1), ('OTS', 1), ('OGN', 1), ('KUI', 1), ('BCE', 1), ('LEO', 1), ('GLA', 1), ('ENO', 1), ('TRA', 1), ('UIB', 1), ('KEL', 1), ('NFL', 1), ('IPO', 1), ('RPR', 1), ('IBC', 1), ('EBI', 1), ('SOC', 1), ('EDL', 1), ('UEI', 1), ('NEL', 1), ('THO', 1), ('CER', 1), ('IAR', 1), ('PEM', 1), ('TSO', 1), ('LGD', 1), ('DUE', 1), ('NIU', 1), ('TOH', 1), ('CEH', 1), ('LEE', 1), ('NTM', 1), ('IIS', 1), ('MWE', 1), ('LTH', 1), ('RIA', 1), ('AIO', 1), ('RTA', 1), ('IUP', 1), ('TAD', 1), ('SCE', 1), ('NEF', 1), ('EAN', 1), ('EAP', 1), ('EMT', 1), ('YEM', 1), ('SUR', 1), ('XEA', 1), ('TAP', 1), ('TTF', 1), ('ELI', 1), ('ORT', 1), ('APR', 1), ('YRU', 1), ('NRS', 1), ('TWE', 1), ('NRE', 1), ('APE', 1), ('UIO', 1), ('ELZ', 1), ('GRO', 1), ('RIM', 1), ('RPC', 1), ('WEP', 1), ('SGP', 1), ('PES', 1), ('SHG', 1), ('UIA', 1), ('NCE', 1), ('UFE', 1), ('EOO', 1), ('MIS', 1), ('IDL', 1), ('MHR', 1), ('DCO', 1), ('ELC', 1), ('EDT', 1), ('OIL', 1), ('OEN', 1), ('BIS', 1), ('SEA', 1), ('OOT', 1), ('VIR', 1), ('UMI', 1), ('AKO', 1), ('RME', 1), ('SWG', 1), ('PTA', 1), ('ORA', 1), ('GEN', 1), ('HRD', 1), ('COR', 1), ('ADI', 1), ('DIR', 1), ('ASO', 1), ('WLR', 1), ('ORS', 1), ('CLG', 1), ('CEV', 1), ('GSO', 1), ('RPE', 1), ('IAS', 1), ('CEB', 1), ('DLE', 1), ('IOW', 1), ('EYE', 1), ('LRA', 1), ('ATA', 1), ('YRT', 1), ('UEA', 1), ('PEI', 1), ('ANG', 1), ('ARO', 1), ('KTH', 1), ('FET', 1), ('FUE', 1), ('THI', 1), ('UUL', 1), ('DRT', 1), ('ASB', 1), ('CRP', 1), ('CCE', 1), ('HTU', 1), ('UTB', 1), ('ENI', 1), ('UUO', 1), ('CLT', 1), ('GDC', 1), ('CRS', 1), ('SOL', 1), ('GDD', 1), ('TLR', 1), ('PE', 1)]\n"
     ]
    }
   ],
   "source": [
    "trigram = ngram(p, 3)\n",
    "print(trigram)"
   ]
  },
  {
   "cell_type": "code",
   "execution_count": 82,
   "metadata": {},
   "outputs": [],
   "source": [
    "def replace(k, s, a, b):\n",
    "    for i, t in enumerate(k):\n",
    "        if t is a:\n",
    "            s = list(s);\n",
    "            s[i] = b\n",
    "            s = ''.join(s)\n",
    "    return s\n",
    "t = p\n",
    "t = replace(p, t, 'I', 'A')\n",
    "t = replace(p, t, 'A', 'N')\n",
    "t = replace(p, t, 'N', 'D')"
   ]
  },
  {
   "cell_type": "code",
   "execution_count": 83,
   "metadata": {},
   "outputs": [
    {
     "name": "stdout",
     "output_type": "stream",
     "text": [
      "MACAOMADANDCRRSYELKHAMTGSRNRNDRAASWAFGCEPTMFUEOEDCRSSPCTTURNDRNRNDRAANDBENOOTENDUANDOTSOGDKUABCELEOGLNEDOTRNDRAASAUABKELANDSOALOEDFLAPORPRNDUABCEBASOCEDLEAOUEADELTHOCERNDRANRNDEFENDENPEMTYEMENOBCTSOLGDDUEDAUTOHTLOCEHLEEDTMTHRNDRAASAMEMWELTHOCERNDRANNAORTNAUPTNDLESSCESOALOEDRNDEFENDENPEMTYEMENOSURXENTNPTTFELAORTNPRYRUDRSTWEDRENPEANDUAOELZGRORNDRAMTYEMENOBCRPCWEPAMESGPPESSHGUANDCEUFEDRNDRARNDEOORNDHLEEDTMASADLEAOHLEEDTMHRDCOELCEDTOALLESOEDANDBASSENOOTVARUMANKORMESWGOCEPTNORNGEDHRDCORNDADARNSOWLRORSCLGUEHTLOCEVGSORPETHRNDRANSCEBASADLEAOWEUREYELRNNTNYRTUENPEANDGNROKTHFETFUETHAUULEURDRTNSBCRPCCEHTUUTBEDAUUOCLTGDCCRSSOLGDDUEHTLRNDEFENDENPE\n"
     ]
    }
   ],
   "source": [
    "print(t)"
   ]
  },
  {
   "cell_type": "code",
   "execution_count": 84,
   "metadata": {},
   "outputs": [
    {
     "name": "stdout",
     "output_type": "stream",
     "text": [
      "[('AN', 11), ('EA', 10), ('IA', 7), ('EL', 7), ('RA', 7), ('RI', 6), ('UE', 6), ('EN', 6), ('NR', 6), ('OC', 6), ('CE', 5), ('LE', 5), ('IO', 5), ('TH', 5), ('ES', 5), ('AR', 4), ('SO', 4), ('OR', 4), ('TA', 4), ('ID', 3), ('NC', 3), ('IS', 3), ('TU', 3), ('OO', 3), ('AD', 3), ('UI', 3), ('SI', 3), ('OI', 3), ('LO', 3), ('NE', 3), ('AP', 3), ('EM', 3), ('LG', 3), ('NI', 3), ('ME', 3), ('RT', 3), ('FE', 3), ('PE', 3), ('EU', 3), ('AS', 3), ('LR', 3), ('IM', 2), ('PT', 2), ('OE', 2), ('RS', 2), ('CT', 2), ('OT', 2), ('II', 2), ('BC', 2), ('ER', 2), ('EF', 2), ('TY', 2), ('OB', 2), ('DD', 2), ('UT', 2), ('EH', 2), ('TM', 2), ('AA', 2), ('DL', 2), ('SC', 2), ('YE', 2), ('TF', 2), ('WE', 2), ('RD', 2), ('BI', 2), ('IR', 2), ('HR', 2), ('OW', 2), ('HT', 2), ('RP', 2), ('CC', 2), ('MI', 1), ('CI', 1), ('OM', 1), ('RR', 1), ('SY', 1), ('KH', 1), ('TG', 1), ('SR', 1), ('WI', 1), ('FG', 1), ('MF', 1), ('SP', 1), ('DR', 1), ('NB', 1), ('TE', 1), ('GN', 1), ('KU', 1), ('IB', 1), ('OG', 1), ('LA', 1), ('BK', 1), ('NS', 1), ('FL', 1), ('IP', 1), ('PR', 1), ('EB', 1), ('ED', 1), ('IN', 1), ('OH', 1), ('TL', 1), ('MW', 1), ('AI', 1), ('UP', 1), ('MT', 1), ('AO', 1), ('SU', 1), ('RX', 1), ('RY', 1), ('RU', 1), ('ST', 1), ('NU', 1), ('ZG', 1), ('RO', 1), ('CR', 1), ('PC', 1), ('PI', 1), ('SG', 1), ('PP', 1), ('SH', 1), ('GU', 1), ('DE', 1), ('DH', 1), ('HL', 1), ('EE', 1), ('NT', 1), ('MH', 1), ('CO', 1), ('DT', 1), ('LL', 1), ('SS', 1), ('TV', 1), ('UM', 1), ('KO', 1), ('RM', 1), ('WG', 1), ('EP', 1), ('AG', 1), ('DC', 1), ('VG', 1), ('ET', 1), ('EI', 1), ('RE', 1), ('YR', 1), ('NG', 1), ('OK', 1), ('IU', 1), ('UL', 1), ('BE', 1), ('UU', 1), ('LT', 1), ('GD', 1), ('E', 1)]\n"
     ]
    }
   ],
   "source": [
    "bigram = ngram(p, 2)\n",
    "print(bigram)"
   ]
  },
  {
   "cell_type": "code",
   "execution_count": 85,
   "metadata": {},
   "outputs": [
    {
     "name": "stdout",
     "output_type": "stream",
     "text": [
      "[('RAN', 4), ('IAN', 4), ('ANR', 3), ('RII', 2), ('EAO', 2), ('ADU', 2), ('NRI', 2), ('ISI', 2), ('SOI', 2), ('LOE', 2), ('EIO', 2), ('ANE', 2), ('FEA', 2), ('NEA', 2), ('TYE', 2), ('MEA', 2), ('OBC', 2), ('TLO', 2), ('THR', 2), ('IME', 2), ('OCE', 2), ('LES', 2), ('NRA', 2), ('RAD', 2), ('HLE', 2), ('ENT', 2), ('UEH', 2), ('EUR', 2), ('MIC', 1), ('IOM', 1), ('IDI', 1), ('ANC', 1), ('RRS', 1), ('YEL', 1), ('KHI', 1), ('MTG', 1), ('SRA', 1), ('SWI', 1), ('FGC', 1), ('EPT', 1), ('MFU', 1), ('EOE', 1), ('NCR', 1), ('SSP', 1), ('CTT', 1), ('URA', 1), ('DRA', 1), ('ANB', 1), ('OTE', 1), ('OTS', 1), ('OGN', 1), ('KUI', 1), ('BCE', 1), ('LEO', 1), ('GLA', 1), ('ENO', 1), ('TRA', 1), ('UIB', 1), ('KEL', 1), ('NFL', 1), ('IPO', 1), ('RPR', 1), ('IBC', 1), ('EBI', 1), ('SOC', 1), ('EDL', 1), ('UEI', 1), ('NEL', 1), ('THO', 1), ('CER', 1), ('IAR', 1), ('PEM', 1), ('TSO', 1), ('LGD', 1), ('DUE', 1), ('NIU', 1), ('TOH', 1), ('CEH', 1), ('LEE', 1), ('NTM', 1), ('IIS', 1), ('MWE', 1), ('LTH', 1), ('RIA', 1), ('AIO', 1), ('RTA', 1), ('IUP', 1), ('TAD', 1), ('SCE', 1), ('NEF', 1), ('EAN', 1), ('EAP', 1), ('EMT', 1), ('YEM', 1), ('SUR', 1), ('XEA', 1), ('TAP', 1), ('TTF', 1), ('ELI', 1), ('ORT', 1), ('APR', 1), ('YRU', 1), ('NRS', 1), ('TWE', 1), ('NRE', 1), ('APE', 1), ('UIO', 1), ('ELZ', 1), ('GRO', 1), ('RIM', 1), ('RPC', 1), ('WEP', 1), ('SGP', 1), ('PES', 1), ('SHG', 1), ('UIA', 1), ('NCE', 1), ('UFE', 1), ('EOO', 1), ('MIS', 1), ('IDL', 1), ('MHR', 1), ('DCO', 1), ('ELC', 1), ('EDT', 1), ('OIL', 1), ('OEN', 1), ('BIS', 1), ('SEA', 1), ('OOT', 1), ('VIR', 1), ('UMI', 1), ('AKO', 1), ('RME', 1), ('SWG', 1), ('PTA', 1), ('ORA', 1), ('GEN', 1), ('HRD', 1), ('COR', 1), ('ADI', 1), ('DIR', 1), ('ASO', 1), ('WLR', 1), ('ORS', 1), ('CLG', 1), ('CEV', 1), ('GSO', 1), ('RPE', 1), ('IAS', 1), ('CEB', 1), ('DLE', 1), ('IOW', 1), ('EYE', 1), ('LRA', 1), ('ATA', 1), ('YRT', 1), ('UEA', 1), ('PEI', 1), ('ANG', 1), ('ARO', 1), ('KTH', 1), ('FET', 1), ('FUE', 1), ('THI', 1), ('UUL', 1), ('DRT', 1), ('ASB', 1), ('CRP', 1), ('CCE', 1), ('HTU', 1), ('UTB', 1), ('ENI', 1), ('UUO', 1), ('CLT', 1), ('GDC', 1), ('CRS', 1), ('SOL', 1), ('GDD', 1), ('TLR', 1), ('PE', 1)]\n"
     ]
    }
   ],
   "source": [
    "trigram = ngram(p, 3)\n",
    "print(trigram)"
   ]
  },
  {
   "cell_type": "code",
   "execution_count": 86,
   "metadata": {
    "collapsed": true
   },
   "outputs": [],
   "source": [
    "t = replace(p, t, 'R', 'I')"
   ]
  },
  {
   "cell_type": "code",
   "execution_count": 87,
   "metadata": {},
   "outputs": [
    {
     "name": "stdout",
     "output_type": "stream",
     "text": [
      "MACAOMADANDCIISYELKHAMTGSININDIAASWAFGCEPTMFUEOEDCISSPCTTUINDININDIAANDBENOOTENDUANDOTSOGDKUABCELEOGLNEDOTINDIAASAUABKELANDSOALOEDFLAPOIPINDUABCEBASOCEDLEAOUEADELTHOCEINDIANINDEFENDENPEMTYEMENOBCTSOLGDDUEDAUTOHTLOCEHLEEDTMTHINDIAASAMEMWELTHOCEINDIANNAOITNAUPTNDLESSCESOALOEDINDEFENDENPEMTYEMENOSUIXENTNPTTFELAOITNPIYIUDISTWEDIENPEANDUAOELZGIOINDIAMTYEMENOBCIPCWEPAMESGPPESSHGUANDCEUFEDINDIAINDEOOINDHLEEDTMASADLEAOHLEEDTMHIDCOELCEDTOALLESOEDANDBASSENOOTVAIUMANKOIMESWGOCEPTNOINGEDHIDCOINDADAINSOWLIOISCLGUEHTLOCEVGSOIPETHINDIANSCEBASADLEAOWEUIEYELINNTNYITUENPEANDGNIOKTHFETFUETHAUULEUIDITNSBCIPCCEHTUUTBEDAUUOCLTGDCCISSOLGDDUEHTLINDEFENDENPE\n"
     ]
    }
   ],
   "source": [
    "print(t)"
   ]
  },
  {
   "cell_type": "code",
   "execution_count": 88,
   "metadata": {
    "collapsed": true
   },
   "outputs": [],
   "source": [
    "t = replace(p, t, 'F', 'P')\n",
    "t = replace(p, t, 'P', 'C')"
   ]
  },
  {
   "cell_type": "code",
   "execution_count": 89,
   "metadata": {},
   "outputs": [
    {
     "name": "stdout",
     "output_type": "stream",
     "text": [
      "MACAOMADANDCIISYELKHAMTGSININDIAASWAPGCECTMPUEOEDCISSCCTTUINDININDIAANDBENOOTENDUANDOTSOGDKUABCELEOGLNEDOTINDIAASAUABKELANDSOALOEDPLACOICINDUABCEBASOCEDLEAOUEADELTHOCEINDIANINDEPENDENCEMTYEMENOBCTSOLGDDUEDAUTOHTLOCEHLEEDTMTHINDIAASAMEMWELTHOCEINDIANNAOITNAUCTNDLESSCESOALOEDINDEPENDENCEMTYEMENOSUIXENTNCTTPELAOITNCIYIUDISTWEDIENCEANDUAOELZGIOINDIAMTYEMENOBCICCWECAMESGCCESSHGUANDCEUPEDINDIAINDEOOINDHLEEDTMASADLEAOHLEEDTMHIDCOELCEDTOALLESOEDANDBASSENOOTVAIUMANKOIMESWGOCECTNOINGEDHIDCOINDADAINSOWLIOISCLGUEHTLOCEVGSOICETHINDIANSCEBASADLEAOWEUIEYELINNTNYITUENCEANDGNIOKTHPETPUETHAUULEUIDITNSBCICCCEHTUUTBEDAUUOCLTGDCCISSOLGDDUEHTLINDEPENDENCE\n"
     ]
    }
   ],
   "source": [
    "print(t)"
   ]
  },
  {
   "cell_type": "code",
   "execution_count": 91,
   "metadata": {},
   "outputs": [
    {
     "name": "stdout",
     "output_type": "stream",
     "text": [
      "[('AN', 11), ('EA', 10), ('IA', 7), ('EL', 7), ('RA', 7), ('RI', 6), ('UE', 6), ('EN', 6), ('NR', 6), ('OC', 6), ('CE', 5), ('LE', 5), ('IO', 5), ('TH', 5), ('ES', 5), ('AR', 4), ('SO', 4), ('OR', 4), ('TA', 4), ('ID', 3), ('NC', 3), ('IS', 3), ('TU', 3), ('OO', 3), ('AD', 3), ('UI', 3), ('SI', 3), ('OI', 3), ('LO', 3), ('NE', 3), ('AP', 3), ('EM', 3), ('LG', 3), ('NI', 3), ('ME', 3), ('RT', 3), ('FE', 3), ('PE', 3), ('EU', 3), ('AS', 3), ('LR', 3), ('IM', 2), ('PT', 2), ('OE', 2), ('RS', 2), ('CT', 2), ('OT', 2), ('II', 2), ('BC', 2), ('ER', 2), ('EF', 2), ('TY', 2), ('OB', 2), ('DD', 2), ('UT', 2), ('EH', 2), ('TM', 2), ('AA', 2), ('DL', 2), ('SC', 2), ('YE', 2), ('TF', 2), ('WE', 2), ('RD', 2), ('BI', 2), ('IR', 2), ('HR', 2), ('OW', 2), ('HT', 2), ('RP', 2), ('CC', 2), ('MI', 1), ('CI', 1), ('OM', 1), ('RR', 1), ('SY', 1), ('KH', 1), ('TG', 1), ('SR', 1), ('WI', 1), ('FG', 1), ('MF', 1), ('SP', 1), ('DR', 1), ('NB', 1), ('TE', 1), ('GN', 1), ('KU', 1), ('IB', 1), ('OG', 1), ('LA', 1), ('BK', 1), ('NS', 1), ('FL', 1), ('IP', 1), ('PR', 1), ('EB', 1), ('ED', 1), ('IN', 1), ('OH', 1), ('TL', 1), ('MW', 1), ('AI', 1), ('UP', 1), ('MT', 1), ('AO', 1), ('SU', 1), ('RX', 1), ('RY', 1), ('RU', 1), ('ST', 1), ('NU', 1), ('ZG', 1), ('RO', 1), ('CR', 1), ('PC', 1), ('PI', 1), ('SG', 1), ('PP', 1), ('SH', 1), ('GU', 1), ('DE', 1), ('DH', 1), ('HL', 1), ('EE', 1), ('NT', 1), ('MH', 1), ('CO', 1), ('DT', 1), ('LL', 1), ('SS', 1), ('TV', 1), ('UM', 1), ('KO', 1), ('RM', 1), ('WG', 1), ('EP', 1), ('AG', 1), ('DC', 1), ('VG', 1), ('ET', 1), ('EI', 1), ('RE', 1), ('YR', 1), ('NG', 1), ('OK', 1), ('IU', 1), ('UL', 1), ('BE', 1), ('UU', 1), ('LT', 1), ('GD', 1), ('E', 1)]\n"
     ]
    }
   ],
   "source": [
    "bigram = ngram(p, 2)\n",
    "print(bigram)"
   ]
  },
  {
   "cell_type": "code",
   "execution_count": 92,
   "metadata": {},
   "outputs": [
    {
     "name": "stdout",
     "output_type": "stream",
     "text": [
      "[('RAN', 4), ('IAN', 4), ('ANR', 3), ('RII', 2), ('EAO', 2), ('ADU', 2), ('NRI', 2), ('ISI', 2), ('SOI', 2), ('LOE', 2), ('EIO', 2), ('ANE', 2), ('FEA', 2), ('NEA', 2), ('TYE', 2), ('MEA', 2), ('OBC', 2), ('TLO', 2), ('THR', 2), ('IME', 2), ('OCE', 2), ('LES', 2), ('NRA', 2), ('RAD', 2), ('HLE', 2), ('ENT', 2), ('UEH', 2), ('EUR', 2), ('MIC', 1), ('IOM', 1), ('IDI', 1), ('ANC', 1), ('RRS', 1), ('YEL', 1), ('KHI', 1), ('MTG', 1), ('SRA', 1), ('SWI', 1), ('FGC', 1), ('EPT', 1), ('MFU', 1), ('EOE', 1), ('NCR', 1), ('SSP', 1), ('CTT', 1), ('URA', 1), ('DRA', 1), ('ANB', 1), ('OTE', 1), ('OTS', 1), ('OGN', 1), ('KUI', 1), ('BCE', 1), ('LEO', 1), ('GLA', 1), ('ENO', 1), ('TRA', 1), ('UIB', 1), ('KEL', 1), ('NFL', 1), ('IPO', 1), ('RPR', 1), ('IBC', 1), ('EBI', 1), ('SOC', 1), ('EDL', 1), ('UEI', 1), ('NEL', 1), ('THO', 1), ('CER', 1), ('IAR', 1), ('PEM', 1), ('TSO', 1), ('LGD', 1), ('DUE', 1), ('NIU', 1), ('TOH', 1), ('CEH', 1), ('LEE', 1), ('NTM', 1), ('IIS', 1), ('MWE', 1), ('LTH', 1), ('RIA', 1), ('AIO', 1), ('RTA', 1), ('IUP', 1), ('TAD', 1), ('SCE', 1), ('NEF', 1), ('EAN', 1), ('EAP', 1), ('EMT', 1), ('YEM', 1), ('SUR', 1), ('XEA', 1), ('TAP', 1), ('TTF', 1), ('ELI', 1), ('ORT', 1), ('APR', 1), ('YRU', 1), ('NRS', 1), ('TWE', 1), ('NRE', 1), ('APE', 1), ('UIO', 1), ('ELZ', 1), ('GRO', 1), ('RIM', 1), ('RPC', 1), ('WEP', 1), ('SGP', 1), ('PES', 1), ('SHG', 1), ('UIA', 1), ('NCE', 1), ('UFE', 1), ('EOO', 1), ('MIS', 1), ('IDL', 1), ('MHR', 1), ('DCO', 1), ('ELC', 1), ('EDT', 1), ('OIL', 1), ('OEN', 1), ('BIS', 1), ('SEA', 1), ('OOT', 1), ('VIR', 1), ('UMI', 1), ('AKO', 1), ('RME', 1), ('SWG', 1), ('PTA', 1), ('ORA', 1), ('GEN', 1), ('HRD', 1), ('COR', 1), ('ADI', 1), ('DIR', 1), ('ASO', 1), ('WLR', 1), ('ORS', 1), ('CLG', 1), ('CEV', 1), ('GSO', 1), ('RPE', 1), ('IAS', 1), ('CEB', 1), ('DLE', 1), ('IOW', 1), ('EYE', 1), ('LRA', 1), ('ATA', 1), ('YRT', 1), ('UEA', 1), ('PEI', 1), ('ANG', 1), ('ARO', 1), ('KTH', 1), ('FET', 1), ('FUE', 1), ('THI', 1), ('UUL', 1), ('DRT', 1), ('ASB', 1), ('CRP', 1), ('CCE', 1), ('HTU', 1), ('UTB', 1), ('ENI', 1), ('UUO', 1), ('CLT', 1), ('GDC', 1), ('CRS', 1), ('SOL', 1), ('GDD', 1), ('TLR', 1), ('PE', 1)]\n"
     ]
    }
   ],
   "source": [
    "trigram = ngram(p, 3)\n",
    "print(trigram)"
   ]
  },
  {
   "cell_type": "code",
   "execution_count": 93,
   "metadata": {
    "collapsed": true
   },
   "outputs": [],
   "source": [
    "t = replace(p, t, 'C', 'H')"
   ]
  },
  {
   "cell_type": "code",
   "execution_count": 94,
   "metadata": {},
   "outputs": [
    {
     "name": "stdout",
     "output_type": "stream",
     "text": [
      "MAHAOMADANDHIISYELKHAMTGSININDIAASWAPGHECTMPUEOEDHISSCHTTUINDININDIAANDBENOOTENDUANDOTSOGDKUABHELEOGLNEDOTINDIAASAUABKELANDSOALOEDPLACOICINDUABHEBASOHEDLEAOUEADELTHOHEINDIANINDEPENDENCEMTYEMENOBHTSOLGDDUEDAUTOHTLOHEHLEEDTMTHINDIAASAMEMWELTHOHEINDIANNAOITNAUCTNDLESSHESOALOEDINDEPENDENCEMTYEMENOSUIXENTNCTTPELAOITNCIYIUDISTWEDIENCEANDUAOELZGIOINDIAMTYEMENOBHICHWECAMESGCCESSHGUANDHEUPEDINDIAINDEOOINDHLEEDTMASADLEAOHLEEDTMHIDHOELHEDTOALLESOEDANDBASSENOOTVAIUMANKOIMESWGOHECTNOINGEDHIDHOINDADAINSOWLIOISHLGUEHTLOHEVGSOICETHINDIANSHEBASADLEAOWEUIEYELINNTNYITUENCEANDGNIOKTHPETPUETHAUULEUIDITNSBHICHHEHTUUTBEDAUUOHLTGDHHISSOLGDDUEHTLINDEPENDENCE\n"
     ]
    }
   ],
   "source": [
    "print(t)"
   ]
  },
  {
   "cell_type": "code",
   "execution_count": 97,
   "metadata": {
    "collapsed": true
   },
   "outputs": [],
   "source": [
    "t = replace(p, t, 'O', 'T')\n",
    "t = replace(p, t, 'D', 'G')"
   ]
  },
  {
   "cell_type": "code",
   "execution_count": 98,
   "metadata": {},
   "outputs": [
    {
     "name": "stdout",
     "output_type": "stream",
     "text": [
      "MAHATMAGANDHIISYELKHAMODSININDIAASWAPDHECOMPUETEDHISSCHOOUINGININDIAANDBENTTOENGUANDTOSTDDKUABHELETDLNEDTOINDIAASAUABKELANDSTALTEDPLACTICINGUABHEBASTHEGLEATUEADELOHTHEINDIANINDEPENDENCEMOYEMENTBHOSTLDGGUEDAUOTHOLTHEHLEEDOMOHINDIAASAMEMWELOHTHEINDIANNATIONAUCONGLESSHESTALTEDINDEPENDENCEMOYEMENTSUIXENONCOOPELATIONCIYIUDISOWEDIENCEANDUATELZDITINDIAMOYEMENTBHICHWECAMESDCCESSHDUANDHEUPEDINDIAINGETTINGHLEEDOMASAGLEATHLEEDOMHIGHTELHEGOTALLESTEDANDBASSENTTOVAIUMANKTIMESWDTHECONTINDEDHIGHTINGAGAINSTWLITISHLDUEHOLTHEVDSTICEOHINDIANSHEBASAGLEATWEUIEYELINNONYIOUENCEANDDNITKOHPEOPUEOHAUULEUIGIONSBHICHHEHOUUOBEDAUUTHLODGHHISSTLDGGUEHOLINDEPENDENCE\n"
     ]
    }
   ],
   "source": [
    "print(t)"
   ]
  },
  {
   "cell_type": "code",
   "execution_count": 99,
   "metadata": {
    "collapsed": true
   },
   "outputs": [],
   "source": [
    "t = replace(p, t, 'H', 'F')\n",
    "t = replace(p, t, 'D', 'U')"
   ]
  },
  {
   "cell_type": "code",
   "execution_count": 100,
   "metadata": {},
   "outputs": [
    {
     "name": "stdout",
     "output_type": "stream",
     "text": [
      "MAHATMAUANDHIISYELKFAMODSININDIAASWAPDHECOMPUETEDHISSCHOOUINUININDIAANDBENTTOENUUANDTOSTDDKUABHELETDLNEDTOINDIAASAUABKELANDSTALTEDPLACTICINUUABHEBASTHEULEATUEADELOFTHEINDIANINDEPENDENCEMOYEMENTBHOSTLDUUUEDAUOTFOLTHEFLEEDOMOFINDIAASAMEMWELOFTHEINDIANNATIONAUCONULESSHESTALTEDINDEPENDENCEMOYEMENTSUIXENONCOOPELATIONCIYIUDISOWEDIENCEANDUATELZDITINDIAMOYEMENTBHICHWECAMESDCCESSFDUANDHEUPEDINDIAINUETTINUFLEEDOMASAULEATFLEEDOMFIUHTELHEUOTALLESTEDANDBASSENTTOVAIUMANKTIMESWDTHECONTINDEDFIUHTINUAUAINSTWLITISHLDUEFOLTHEVDSTICEOFINDIANSHEBASAULEATWEUIEYELINNONYIOUENCEANDDNITKOFPEOPUEOFAUULEUIUIONSBHICHHEFOUUOBEDAUUTHLODUHHISSTLDUUUEFOLINDEPENDENCE\n"
     ]
    }
   ],
   "source": [
    "print(t)"
   ]
  },
  {
   "cell_type": "code",
   "execution_count": null,
   "metadata": {
    "collapsed": true
   },
   "outputs": [],
   "source": []
  }
 ],
 "metadata": {
  "kernelspec": {
   "display_name": "Python 3",
   "language": "python",
   "name": "python3"
  },
  "language_info": {
   "codemirror_mode": {
    "name": "ipython",
    "version": 3
   },
   "file_extension": ".py",
   "mimetype": "text/x-python",
   "name": "python",
   "nbconvert_exporter": "python",
   "pygments_lexer": "ipython3",
   "version": "3.6.1"
  }
 },
 "nbformat": 4,
 "nbformat_minor": 2
}
